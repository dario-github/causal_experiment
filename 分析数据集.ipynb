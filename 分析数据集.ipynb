{
 "cells": [
  {
   "cell_type": "code",
   "execution_count": 1,
   "id": "stunning-governor",
   "metadata": {},
   "outputs": [],
   "source": [
    "from pyforest import *\n",
    "import pandas as pd\n",
    "from pathlib import Path\n",
    "from functional import seq\n",
    "from tqdm import tqdm"
   ]
  },
  {
   "cell_type": "code",
   "execution_count": 2,
   "id": "medium-serve",
   "metadata": {},
   "outputs": [
    {
     "name": "stdout",
     "output_type": "stream",
     "text": [
      "/home/dario/workspace/liyuan_paper/zdclink2-14952da40bc3.json\n"
     ]
    }
   ],
   "source": [
    "!echo $GOOGLE_APPLICATION_CREDENTIALS"
   ]
  },
  {
   "cell_type": "markdown",
   "id": "statistical-cause",
   "metadata": {},
   "source": [
    "## 翻译"
   ]
  },
  {
   "cell_type": "code",
   "execution_count": 3,
   "id": "outdoor-shopper",
   "metadata": {
    "tags": []
   },
   "outputs": [
    {
     "data": {
      "text/plain": [
       "'你好'"
      ]
     },
     "execution_count": 3,
     "metadata": {},
     "output_type": "execute_result"
    }
   ],
   "source": [
    "#导入需要的包\n",
    "import pandas as pd\n",
    "import numpy as np\n",
    "import requests\n",
    "import json\n",
    "def youdao_translate(word):\n",
    "    # 有道词典 api\n",
    "    url = 'http://fanyi.youdao.com/translate?smartresult=dict&smartresult=rule&smartresult=ugc&sessionFrom=null'\n",
    "    # 传输的参数，其中 i 为需要翻译的内容\n",
    "    key = {\n",
    "        'type': \"AUTO\",\n",
    "        'i': word,\n",
    "        \"doctype\": \"json\",\n",
    "        \"version\": \"2.1\",\n",
    "        \"keyfrom\": \"fanyi.web\",\n",
    "        \"ue\": \"UTF-8\",\n",
    "        \"action\": \"FY_BY_CLICKBUTTON\",\n",
    "        \"typoResult\": \"true\"\n",
    "    }\n",
    "    # key 这个字典为发送给有道词典服务器的内容\n",
    "    response = requests.post(url, data=key)\n",
    "    # 判断服务器是否相应成功\n",
    "    if response.status_code == 200:\n",
    "        # 然后相应的结果\n",
    "        return response.text\n",
    "    else:\n",
    "        print(\"有道词典调用失败\")\n",
    "        # 相应失败就返回空\n",
    "        return None\n",
    " \n",
    " \n",
    "def trans_text(word):\n",
    "    list_trans = youdao_translate(word)\n",
    "    result = json.loads(list_trans)\n",
    "    result = result['translateResult'][0][0]['tgt']\n",
    "    return result\n",
    "\n",
    "#调用\n",
    "trans_text('Hello')\n",
    "#结果《The 21st century》"
   ]
  },
  {
   "cell_type": "code",
   "execution_count": 4,
   "id": "virgin-apartment",
   "metadata": {},
   "outputs": [],
   "source": [
    "# !export GOOGLE_APPLICATION_CREDENTIALS=/home/dario/workspace/liyuan_paper/zdclink2-14952da40bc3.json"
   ]
  },
  {
   "cell_type": "code",
   "execution_count": 5,
   "id": "competent-payday",
   "metadata": {
    "tags": []
   },
   "outputs": [],
   "source": [
    "# !python3.8 -m pip install -q googletrans==3.1.0a0\n",
    "\n",
    "# from googletrans import Translator\n",
    "# translator = Translator()\n",
    "# def google_trans(text):\n",
    "#     return translator.translate(text, dest=\"zh-cn\").text\n",
    "\n",
    "# google_trans(\"Hello\")"
   ]
  },
  {
   "cell_type": "markdown",
   "id": "perceived-money",
   "metadata": {},
   "source": [
    "## 数据"
   ]
  },
  {
   "cell_type": "code",
   "execution_count": 6,
   "id": "reverse-diagram",
   "metadata": {},
   "outputs": [],
   "source": [
    "root_dir = Path(\"/home/dario\")\n",
    "data_file = root_dir / \"workspace/liyuan_paper/data/GSE42057_series_matrix.txt\""
   ]
  },
  {
   "cell_type": "code",
   "execution_count": 7,
   "id": "provincial-server",
   "metadata": {},
   "outputs": [],
   "source": [
    "df = pd.read_csv(data_file, delimiter=\"\\t\", skiprows=78, index_col=0)"
   ]
  },
  {
   "cell_type": "code",
   "execution_count": 8,
   "id": "arbitrary-haven",
   "metadata": {},
   "outputs": [],
   "source": [
    "df.dropna(inplace=True)"
   ]
  },
  {
   "cell_type": "code",
   "execution_count": 9,
   "id": "prompt-saying",
   "metadata": {},
   "outputs": [],
   "source": [
    "tmp = !head -17 data/GPL570-55999.txt"
   ]
  },
  {
   "cell_type": "markdown",
   "id": "young-comparative",
   "metadata": {},
   "source": [
    "### 映射"
   ]
  },
  {
   "cell_type": "code",
   "execution_count": 10,
   "id": "handed-baghdad",
   "metadata": {},
   "outputs": [
    {
     "name": "stderr",
     "output_type": "stream",
     "text": [
      "/home/dario/.local/lib/python3.8/site-packages/IPython/core/interactiveshell.py:3165: DtypeWarning: Columns (2) have mixed types.Specify dtype option on import or set low_memory=False.\n",
      "  has_raised = await self.run_ast_nodes(code_ast.body, cell_name,\n"
     ]
    }
   ],
   "source": [
    "map_df = pd.read_csv(\"data/GPL570-55999.txt\", sep=\"\\t\", skiprows=16, index_col=0)"
   ]
  },
  {
   "cell_type": "code",
   "execution_count": 44,
   "id": "based-judgment",
   "metadata": {},
   "outputs": [],
   "source": [
    "map_df[\"Process\"] = (\n",
    "    seq(map_df[\"Gene Ontology Biological Process\"])\n",
    "     .map(lambda x: x if isinstance(x, str) else \"None//None//None\")\n",
    "     .map(lambda x: x.split(\"///\"))\n",
    "     .map(lambda x: [y.split(\"//\")[1].strip() for y in x])\n",
    "     .map(lambda x: ','.join(x))\n",
    "    #  .map(lambda x: [y for y in x if not (y.startswith(\"inferred from\") or y.startswith(\"traceable author statement\"))])\n",
    ").to_list()"
   ]
  },
  {
   "cell_type": "code",
   "execution_count": 45,
   "id": "logical-petroleum",
   "metadata": {},
   "outputs": [],
   "source": [
    "map_df = map_df[[\"Gene Title\", \"Process\"]]"
   ]
  },
  {
   "cell_type": "code",
   "execution_count": 48,
   "id": "ordered-parking",
   "metadata": {},
   "outputs": [
    {
     "name": "stderr",
     "output_type": "stream",
     "text": [
      "/home/dario/.local/lib/python3.8/site-packages/pandas/core/frame.py:4462: SettingWithCopyWarning: \n",
      "A value is trying to be set on a copy of a slice from a DataFrame\n",
      "\n",
      "See the caveats in the documentation: https://pandas.pydata.org/pandas-docs/stable/user_guide/indexing.html#returning-a-view-versus-a-copy\n",
      "  return super().fillna(\n"
     ]
    }
   ],
   "source": [
    "map_df.fillna(\"None\", inplace=True)"
   ]
  },
  {
   "cell_type": "code",
   "execution_count": 50,
   "id": "integral-secret",
   "metadata": {},
   "outputs": [
    {
     "data": {
      "text/plain": [
       "'cell morphogenesis,ATP catabolic process,response to stress,response to unfolded protein,cellular response to heat,protein refolding,cellular heat acclimation'"
      ]
     },
     "execution_count": 50,
     "metadata": {},
     "output_type": "execute_result"
    }
   ],
   "source": [
    "map_df.loc[\"117_at\", \"Gene Title\"]\n",
    "map_df.loc[\"117_at\", \"Process\"]"
   ]
  },
  {
   "cell_type": "code",
   "execution_count": 51,
   "id": "herbal-treasure",
   "metadata": {},
   "outputs": [],
   "source": [
    "token_2_title = dict(zip(map_df[[\"Gene Title\"]].index, map_df[\"Gene Title\"].values))"
   ]
  },
  {
   "cell_type": "code",
   "execution_count": 13,
   "id": "loving-liberia",
   "metadata": {
    "tags": []
   },
   "outputs": [],
   "source": [
    "# import time\n",
    "# with open(\"data/GSE42057_token_2_title.txt\", \"w\") as f:\n",
    "#     for token in tqdm(df.index):\n",
    "#         try:\n",
    "#             f.write(f\"{token}\\t{google_trans(token_2_title.get(token))}\\n\")\n",
    "#         except Exception:\n",
    "#             pass\n",
    "#         time.sleep(2)"
   ]
  },
  {
   "cell_type": "markdown",
   "id": "adequate-acquisition",
   "metadata": {},
   "source": [
    "## 计算"
   ]
  },
  {
   "cell_type": "code",
   "execution_count": 52,
   "id": "recovered-bulletin",
   "metadata": {},
   "outputs": [
    {
     "data": {
      "text/plain": [
       "'1.0.5'"
      ]
     },
     "execution_count": 52,
     "metadata": {},
     "output_type": "execute_result"
    }
   ],
   "source": [
    "import causal_discovery\n",
    "causal_discovery.__version__"
   ]
  },
  {
   "cell_type": "code",
   "execution_count": 53,
   "id": "sunrise-geneva",
   "metadata": {},
   "outputs": [],
   "source": [
    "from causal_discovery.parameter.log import config_log\n",
    "config_log(\n",
    "    \"causal_discovery\",\n",
    "    \"local_ng_cd\",\n",
    "    log_root=\"/home/dario/workspace/liyuan_paper/log\",\n",
    "    print_terminal=False,\n",
    "    enable_monitor=True,\n",
    ")"
   ]
  },
  {
   "cell_type": "code",
   "execution_count": 54,
   "id": "received-relationship",
   "metadata": {},
   "outputs": [],
   "source": [
    "from causal_discovery.algorithm.local_ng_cd.local_ng_cd import local_ng_cd\n",
    "from causal_discovery.data_prepare.matrix_data import get_matrix_data\n",
    "from causal_discovery.parameter.algo import DataType, LocalNgCdParam\n",
    "from causal_discovery.parameter.env import select_xp\n",
    "from causal_discovery.parameter.error import DataTypeError\n",
    "\n",
    "xp = select_xp()"
   ]
  },
  {
   "cell_type": "code",
   "execution_count": 55,
   "id": "premier-preliminary",
   "metadata": {},
   "outputs": [],
   "source": [
    "def get_causal_result(target):\n",
    "    matrix_data = get_matrix_data(\n",
    "        target,\n",
    "        corr_filter=True,\n",
    "        need_norm=False,\n",
    "        ret_df=df.T,\n",
    "    ).T\n",
    "\n",
    "    # 暴露出来允许修改的参数\n",
    "    param = LocalNgCdParam()\n",
    "    param.candidate_two_step = False\n",
    "    param.target_index = list(matrix_data.columns).index(target)\n",
    "    # 变量token -> name\n",
    "    index_map = dict(enumerate(matrix_data.columns))\n",
    "    # 调用主函数计算因果\n",
    "    edges_trust, synthesize_effect = local_ng_cd(\n",
    "        xp.asarray(matrix_data.T.to_numpy()), param, synthesize=True\n",
    "    )\n",
    "    edges_trust = [\n",
    "        (index_map.get(int(causal), \"N\"), index_map.get(int(result), \"N\"), weight)\n",
    "        for causal, result, weight in edges_trust\n",
    "    ]\n",
    "    return edges_trust"
   ]
  },
  {
   "cell_type": "code",
   "execution_count": 19,
   "id": "stuffed-denver",
   "metadata": {},
   "outputs": [
    {
     "data": {
      "text/plain": [
       "'microRNA 5193 / / / ubiquitin-like修改器激活酶7'"
      ]
     },
     "execution_count": 19,
     "metadata": {},
     "output_type": "execute_result"
    }
   ],
   "source": [
    "target = \"1294_at\"\n",
    "trans_text(token_2_title[target])"
   ]
  },
  {
   "cell_type": "code",
   "execution_count": 20,
   "id": "neither-stevens",
   "metadata": {},
   "outputs": [
    {
     "data": {
      "text/html": [
       "<div>\n",
       "<style scoped>\n",
       "    .dataframe tbody tr th:only-of-type {\n",
       "        vertical-align: middle;\n",
       "    }\n",
       "\n",
       "    .dataframe tbody tr th {\n",
       "        vertical-align: top;\n",
       "    }\n",
       "\n",
       "    .dataframe thead th {\n",
       "        text-align: right;\n",
       "    }\n",
       "</style>\n",
       "<table border=\"1\" class=\"dataframe\">\n",
       "  <thead>\n",
       "    <tr style=\"text-align: right;\">\n",
       "      <th></th>\n",
       "      <th>0</th>\n",
       "      <th>1</th>\n",
       "      <th>2</th>\n",
       "    </tr>\n",
       "  </thead>\n",
       "  <tbody>\n",
       "    <tr>\n",
       "      <th>0</th>\n",
       "      <td>排序nexin 6</td>\n",
       "      <td>microRNA 5193 / / / ubiquitin-like修改器激活酶7</td>\n",
       "      <td>10.222674</td>\n",
       "    </tr>\n",
       "    <tr>\n",
       "      <th>1</th>\n",
       "      <td>microRNA 5193 / / / ubiquitin-like修改器激活酶7</td>\n",
       "      <td>translin</td>\n",
       "      <td>-13.021033</td>\n",
       "    </tr>\n",
       "  </tbody>\n",
       "</table>\n",
       "</div>"
      ],
      "text/plain": [
       "                                           0  \\\n",
       "0                                  排序nexin 6   \n",
       "1  microRNA 5193 / / / ubiquitin-like修改器激活酶7   \n",
       "\n",
       "                                           1          2  \n",
       "0  microRNA 5193 / / / ubiquitin-like修改器激活酶7  10.222674  \n",
       "1                                   translin -13.021033  "
      ]
     },
     "execution_count": 20,
     "metadata": {},
     "output_type": "execute_result"
    }
   ],
   "source": [
    "edges_trust = get_causal_result(target)\n",
    "pd.DataFrame([(trans_text(token_2_title[x]), trans_text(token_2_title[y]), z) for x, y, z in edges_trust])"
   ]
  },
  {
   "cell_type": "code",
   "execution_count": 57,
   "id": "owned-karma",
   "metadata": {},
   "outputs": [
    {
     "data": {
      "text/plain": [
       "'蛋白质磷酸化酶联受体蛋白信号通路,磷酸化,peptidyl-tyrosine磷酸化,cytokine-mediated信号通路、细胞内信号转导,interleukin-2-mediated信号通路,应对抗生素,蛋白质自身磷酸化,interferon-gamma-mediated信号通路,调节interferon-gamma-mediated信号通路,I型干扰素信号通路,调节I型interferon-mediated信号通路'"
      ]
     },
     "execution_count": 57,
     "metadata": {},
     "output_type": "execute_result"
    }
   ],
   "source": [
    "trans_text(x_process)"
   ]
  },
  {
   "cell_type": "code",
   "execution_count": 63,
   "id": "grave-expense",
   "metadata": {},
   "outputs": [],
   "source": [
    "import sys"
   ]
  },
  {
   "cell_type": "code",
   "execution_count": 69,
   "id": "significant-abuse",
   "metadata": {},
   "outputs": [
    {
     "name": "stderr",
     "output_type": "stream",
     "text": [
      "  0%|          | 0/12531 [00:12<?, ?it/s]\n"
     ]
    },
    {
     "ename": "KeyboardInterrupt",
     "evalue": "",
     "output_type": "error",
     "traceback": [
      "\u001b[0;31m---------------------------------------------------------------------------\u001b[0m",
      "\u001b[0;31mKeyboardInterrupt\u001b[0m                         Traceback (most recent call last)",
      "\u001b[0;32m<ipython-input-69-684b8e6fbc56>\u001b[0m in \u001b[0;36m<module>\u001b[0;34m\u001b[0m\n\u001b[1;32m      5\u001b[0m         \u001b[0;32mtry\u001b[0m\u001b[0;34m:\u001b[0m\u001b[0;34m\u001b[0m\u001b[0;34m\u001b[0m\u001b[0m\n\u001b[1;32m      6\u001b[0m             \u001b[0mtarget_name\u001b[0m \u001b[0;34m=\u001b[0m \u001b[0mtrans_text\u001b[0m\u001b[0;34m(\u001b[0m\u001b[0mtoken_2_title\u001b[0m\u001b[0;34m[\u001b[0m\u001b[0mtarget\u001b[0m\u001b[0;34m]\u001b[0m\u001b[0;34m)\u001b[0m\u001b[0;34m\u001b[0m\u001b[0;34m\u001b[0m\u001b[0m\n\u001b[0;32m----> 7\u001b[0;31m             \u001b[0medges_trust\u001b[0m \u001b[0;34m=\u001b[0m \u001b[0mget_causal_result\u001b[0m\u001b[0;34m(\u001b[0m\u001b[0mtarget\u001b[0m\u001b[0;34m)\u001b[0m\u001b[0;34m\u001b[0m\u001b[0;34m\u001b[0m\u001b[0m\n\u001b[0m\u001b[1;32m      8\u001b[0m             \u001b[0;32mfor\u001b[0m \u001b[0mx\u001b[0m\u001b[0;34m,\u001b[0m \u001b[0my\u001b[0m\u001b[0;34m,\u001b[0m \u001b[0mz\u001b[0m \u001b[0;32min\u001b[0m \u001b[0medges_trust\u001b[0m\u001b[0;34m:\u001b[0m\u001b[0;34m\u001b[0m\u001b[0;34m\u001b[0m\u001b[0m\n\u001b[1;32m      9\u001b[0m                 \u001b[0mx_name\u001b[0m \u001b[0;34m=\u001b[0m \u001b[0mtrans_text\u001b[0m\u001b[0;34m(\u001b[0m\u001b[0mtoken_2_title\u001b[0m\u001b[0;34m[\u001b[0m\u001b[0mx\u001b[0m\u001b[0;34m]\u001b[0m\u001b[0;34m)\u001b[0m\u001b[0;34m\u001b[0m\u001b[0;34m\u001b[0m\u001b[0m\n",
      "\u001b[0;32m<ipython-input-55-d91833a43b32>\u001b[0m in \u001b[0;36mget_causal_result\u001b[0;34m(target)\u001b[0m\n\u001b[1;32m     14\u001b[0m     \u001b[0mindex_map\u001b[0m \u001b[0;34m=\u001b[0m \u001b[0mdict\u001b[0m\u001b[0;34m(\u001b[0m\u001b[0menumerate\u001b[0m\u001b[0;34m(\u001b[0m\u001b[0mmatrix_data\u001b[0m\u001b[0;34m.\u001b[0m\u001b[0mcolumns\u001b[0m\u001b[0;34m)\u001b[0m\u001b[0;34m)\u001b[0m\u001b[0;34m\u001b[0m\u001b[0;34m\u001b[0m\u001b[0m\n\u001b[1;32m     15\u001b[0m     \u001b[0;31m# 调用主函数计算因果\u001b[0m\u001b[0;34m\u001b[0m\u001b[0;34m\u001b[0m\u001b[0;34m\u001b[0m\u001b[0m\n\u001b[0;32m---> 16\u001b[0;31m     edges_trust, synthesize_effect = local_ng_cd(\n\u001b[0m\u001b[1;32m     17\u001b[0m         \u001b[0mxp\u001b[0m\u001b[0;34m.\u001b[0m\u001b[0masarray\u001b[0m\u001b[0;34m(\u001b[0m\u001b[0mmatrix_data\u001b[0m\u001b[0;34m.\u001b[0m\u001b[0mT\u001b[0m\u001b[0;34m.\u001b[0m\u001b[0mto_numpy\u001b[0m\u001b[0;34m(\u001b[0m\u001b[0;34m)\u001b[0m\u001b[0;34m)\u001b[0m\u001b[0;34m,\u001b[0m \u001b[0mparam\u001b[0m\u001b[0;34m,\u001b[0m \u001b[0msynthesize\u001b[0m\u001b[0;34m=\u001b[0m\u001b[0;32mTrue\u001b[0m\u001b[0;34m\u001b[0m\u001b[0;34m\u001b[0m\u001b[0m\n\u001b[1;32m     18\u001b[0m     )\n",
      "\u001b[0;32m~/.local/lib/python3.8/site-packages/causal_discovery/algorithm/local_ng_cd/local_ng_cd.py\u001b[0m in \u001b[0;36mlocal_ng_cd\u001b[0;34m(x, param, synthesize)\u001b[0m\n\u001b[1;32m    193\u001b[0m     \u001b[0;31m# 执行受约束的ICA\u001b[0m\u001b[0;34m\u001b[0m\u001b[0;34m\u001b[0m\u001b[0;34m\u001b[0m\u001b[0m\n\u001b[1;32m    194\u001b[0m     \u001b[0mregu\u001b[0m \u001b[0;34m=\u001b[0m \u001b[0mparam\u001b[0m\u001b[0;34m.\u001b[0m\u001b[0mica_regu\u001b[0m\u001b[0;34m\u001b[0m\u001b[0;34m\u001b[0m\u001b[0m\n\u001b[0;32m--> 195\u001b[0;31m     _, w_m, _, _ = sparseica_W_adasize_Alasso_mask_regu(\n\u001b[0m\u001b[1;32m    196\u001b[0m         \u001b[0mx\u001b[0m\u001b[0;34m[\u001b[0m\u001b[0mind_mb\u001b[0m\u001b[0;34m,\u001b[0m \u001b[0;34m:\u001b[0m\u001b[0;34m]\u001b[0m\u001b[0;34m,\u001b[0m \u001b[0mmask\u001b[0m\u001b[0;34m,\u001b[0m \u001b[0mmath\u001b[0m\u001b[0;34m.\u001b[0m\u001b[0mlog\u001b[0m\u001b[0;34m(\u001b[0m\u001b[0msample_size\u001b[0m\u001b[0;34m)\u001b[0m\u001b[0;34m,\u001b[0m \u001b[0mregu\u001b[0m\u001b[0;34m\u001b[0m\u001b[0;34m\u001b[0m\u001b[0m\n\u001b[1;32m    197\u001b[0m     )\n",
      "\u001b[0;32m~/.local/lib/python3.8/site-packages/causal_discovery/algorithm/local_ng_cd/util/sparseica_w_adasize_alasso_mask_regu.py\u001b[0m in \u001b[0;36msparseica_W_adasize_Alasso_mask_regu\u001b[0;34m(x, mask, lambda_param, regu)\u001b[0m\n\u001b[1;32m    173\u001b[0m     \u001b[0mica_model\u001b[0m\u001b[0;34m.\u001b[0m\u001b[0mnum_edges\u001b[0m \u001b[0;34m=\u001b[0m \u001b[0mxp\u001b[0m\u001b[0;34m.\u001b[0m\u001b[0msum\u001b[0m\u001b[0;34m(\u001b[0m\u001b[0mmask\u001b[0m\u001b[0;34m,\u001b[0m \u001b[0maxis\u001b[0m\u001b[0;34m=\u001b[0m\u001b[0;34m(\u001b[0m\u001b[0;36m0\u001b[0m\u001b[0;34m,\u001b[0m \u001b[0;36m1\u001b[0m\u001b[0;34m)\u001b[0m\u001b[0;34m)\u001b[0m\u001b[0;34m\u001b[0m\u001b[0;34m\u001b[0m\u001b[0m\n\u001b[1;32m    174\u001b[0m \u001b[0;34m\u001b[0m\u001b[0m\n\u001b[0;32m--> 175\u001b[0;31m     \u001b[0minitialization\u001b[0m\u001b[0;34m(\u001b[0m\u001b[0mnew_x\u001b[0m\u001b[0;34m,\u001b[0m \u001b[0mica_model\u001b[0m\u001b[0;34m)\u001b[0m\u001b[0;34m\u001b[0m\u001b[0;34m\u001b[0m\u001b[0m\n\u001b[0m\u001b[1;32m    176\u001b[0m     \u001b[0;32mreturn\u001b[0m \u001b[0mpenalization\u001b[0m\u001b[0;34m(\u001b[0m\u001b[0mx\u001b[0m\u001b[0;34m,\u001b[0m \u001b[0mnew_x\u001b[0m\u001b[0;34m,\u001b[0m \u001b[0mstd_x\u001b[0m\u001b[0;34m,\u001b[0m \u001b[0mica_model\u001b[0m\u001b[0;34m)\u001b[0m\u001b[0;34m\u001b[0m\u001b[0;34m\u001b[0m\u001b[0m\n\u001b[1;32m    177\u001b[0m \u001b[0;34m\u001b[0m\u001b[0m\n",
      "\u001b[0;32m~/.local/lib/python3.8/site-packages/causal_discovery/algorithm/local_ng_cd/util/sparseica_w_adasize_alasso_mask_regu.py\u001b[0m in \u001b[0;36minitialization\u001b[0;34m(new_x, ica_model)\u001b[0m\n\u001b[1;32m     50\u001b[0m         \u001b[0mlogging\u001b[0m\u001b[0;34m.\u001b[0m\u001b[0minfo\u001b[0m\u001b[0;34m(\u001b[0m\u001b[0;34m\"Initialization....\"\u001b[0m\u001b[0;34m)\u001b[0m\u001b[0;34m\u001b[0m\u001b[0;34m\u001b[0m\u001b[0m\n\u001b[1;32m     51\u001b[0m         \u001b[0;31m# w_temp = xp.diag(1 / xp.std(new_x, axis=1, ddof=1))\u001b[0m\u001b[0;34m\u001b[0m\u001b[0;34m\u001b[0m\u001b[0;34m\u001b[0m\u001b[0m\n\u001b[0;32m---> 52\u001b[0;31m         \u001b[0mw_temp\u001b[0m \u001b[0;34m=\u001b[0m \u001b[0mnatural_grad_Adasize_Mask_regu\u001b[0m\u001b[0;34m(\u001b[0m\u001b[0mnew_x\u001b[0m\u001b[0;34m,\u001b[0m \u001b[0mica_model\u001b[0m\u001b[0;34m.\u001b[0m\u001b[0mmask\u001b[0m\u001b[0;34m,\u001b[0m \u001b[0mica_model\u001b[0m\u001b[0;34m.\u001b[0m\u001b[0mregu\u001b[0m\u001b[0;34m)\u001b[0m\u001b[0;34m\u001b[0m\u001b[0;34m\u001b[0m\u001b[0m\n\u001b[0m\u001b[1;32m     53\u001b[0m         \u001b[0momega_temp\u001b[0m \u001b[0;34m=\u001b[0m \u001b[0mxp\u001b[0m\u001b[0;34m.\u001b[0m\u001b[0marray\u001b[0m\u001b[0;34m(\u001b[0m\u001b[0;34m[\u001b[0m\u001b[0;36m1\u001b[0m \u001b[0;34m/\u001b[0m \u001b[0mabs\u001b[0m\u001b[0;34m(\u001b[0m\u001b[0mw_temp\u001b[0m\u001b[0;34m[\u001b[0m\u001b[0mica_model\u001b[0m\u001b[0;34m.\u001b[0m\u001b[0mmask\u001b[0m \u001b[0;34m!=\u001b[0m \u001b[0;36m0\u001b[0m\u001b[0;34m]\u001b[0m\u001b[0;34m)\u001b[0m\u001b[0;34m]\u001b[0m\u001b[0;34m)\u001b[0m\u001b[0;34m\u001b[0m\u001b[0;34m\u001b[0m\u001b[0m\n\u001b[1;32m     54\u001b[0m         \u001b[0;31m# to avoid instability\u001b[0m\u001b[0;34m\u001b[0m\u001b[0;34m\u001b[0m\u001b[0;34m\u001b[0m\u001b[0m\n",
      "\u001b[0;32m~/.local/lib/python3.8/site-packages/causal_discovery/algorithm/local_ng_cd/util/natural_grad_adasize_mask_regu.py\u001b[0m in \u001b[0;36mnatural_grad_Adasize_Mask_regu\u001b[0;34m(x, mask, regu, ww)\u001b[0m\n\u001b[1;32m     50\u001b[0m         \u001b[0;32mif\u001b[0m \u001b[0miter_\u001b[0m \u001b[0;34m%\u001b[0m \u001b[0;36m12\u001b[0m \u001b[0;34m==\u001b[0m \u001b[0;36m0\u001b[0m\u001b[0;34m:\u001b[0m\u001b[0;34m\u001b[0m\u001b[0;34m\u001b[0m\u001b[0m\n\u001b[1;32m     51\u001b[0m             \u001b[0;32mfor\u001b[0m \u001b[0mi\u001b[0m \u001b[0;32min\u001b[0m \u001b[0mrange\u001b[0m\u001b[0;34m(\u001b[0m\u001b[0mvar_num\u001b[0m\u001b[0;34m)\u001b[0m\u001b[0;34m:\u001b[0m\u001b[0;34m\u001b[0m\u001b[0;34m\u001b[0m\u001b[0m\n\u001b[0;32m---> 52\u001b[0;31m                 \u001b[0mtem\u001b[0m \u001b[0;34m=\u001b[0m \u001b[0mestim_beta_pham\u001b[0m\u001b[0;34m(\u001b[0m\u001b[0my\u001b[0m\u001b[0;34m[\u001b[0m\u001b[0;34m[\u001b[0m\u001b[0mi\u001b[0m\u001b[0;34m]\u001b[0m\u001b[0;34m,\u001b[0m \u001b[0;34m:\u001b[0m\u001b[0;34m]\u001b[0m\u001b[0;34m)\u001b[0m\u001b[0;34m\u001b[0m\u001b[0;34m\u001b[0m\u001b[0m\n\u001b[0m\u001b[1;32m     53\u001b[0m                 \u001b[0my_psi\u001b[0m\u001b[0;34m[\u001b[0m\u001b[0mi\u001b[0m\u001b[0;34m,\u001b[0m \u001b[0;34m:\u001b[0m\u001b[0;34m]\u001b[0m \u001b[0;34m=\u001b[0m \u001b[0mtem\u001b[0m\u001b[0;34m[\u001b[0m\u001b[0;36m0\u001b[0m\u001b[0;34m,\u001b[0m \u001b[0;34m:\u001b[0m\u001b[0;34m]\u001b[0m\u001b[0;34m\u001b[0m\u001b[0;34m\u001b[0m\u001b[0m\n\u001b[1;32m     54\u001b[0m                 \u001b[0midxs\u001b[0m \u001b[0;34m=\u001b[0m \u001b[0mxp\u001b[0m\u001b[0;34m.\u001b[0m\u001b[0margsort\u001b[0m\u001b[0;34m(\u001b[0m\u001b[0my\u001b[0m\u001b[0;34m[\u001b[0m\u001b[0mi\u001b[0m\u001b[0;34m,\u001b[0m \u001b[0;34m:\u001b[0m\u001b[0;34m]\u001b[0m\u001b[0;34m)\u001b[0m\u001b[0;34m\u001b[0m\u001b[0;34m\u001b[0m\u001b[0m\n",
      "\u001b[0;32m~/.local/lib/python3.8/site-packages/causal_discovery/algorithm/local_ng_cd/util/estim_beta_pham.py\u001b[0m in \u001b[0;36mestim_beta_pham\u001b[0;34m(x)\u001b[0m\n\u001b[1;32m     25\u001b[0m         \u001b[0;32mreturn\u001b[0m \u001b[0;32mNone\u001b[0m\u001b[0;34m\u001b[0m\u001b[0;34m\u001b[0m\u001b[0m\n\u001b[1;32m     26\u001b[0m \u001b[0;34m\u001b[0m\u001b[0m\n\u001b[0;32m---> 27\u001b[0;31m     \u001b[0;32mreturn\u001b[0m \u001b[0mxp\u001b[0m\u001b[0;34m.\u001b[0m\u001b[0marray\u001b[0m\u001b[0;34m(\u001b[0m\u001b[0;34m[\u001b[0m\u001b[0;34m-\u001b[0m\u001b[0mscorecond\u001b[0m\u001b[0;34m(\u001b[0m\u001b[0mx\u001b[0m\u001b[0;34m.\u001b[0m\u001b[0mT\u001b[0m\u001b[0;34m)\u001b[0m\u001b[0;34m[\u001b[0m\u001b[0;36m0\u001b[0m\u001b[0;34m]\u001b[0m\u001b[0;34m.\u001b[0m\u001b[0mT\u001b[0m\u001b[0;34m[\u001b[0m\u001b[0;36m0\u001b[0m\u001b[0;34m,\u001b[0m \u001b[0;34m:\u001b[0m\u001b[0;34m]\u001b[0m\u001b[0;34m,\u001b[0m \u001b[0;34m-\u001b[0m\u001b[0mscorecond\u001b[0m\u001b[0;34m(\u001b[0m\u001b[0mx\u001b[0m\u001b[0;34m[\u001b[0m\u001b[0;34m:\u001b[0m\u001b[0;34m:\u001b[0m\u001b[0;34m-\u001b[0m\u001b[0;36m1\u001b[0m\u001b[0;34m,\u001b[0m \u001b[0;34m:\u001b[0m\u001b[0;34m]\u001b[0m\u001b[0;34m.\u001b[0m\u001b[0mT\u001b[0m\u001b[0;34m)\u001b[0m\u001b[0;34m[\u001b[0m\u001b[0;36m0\u001b[0m\u001b[0;34m]\u001b[0m\u001b[0;34m.\u001b[0m\u001b[0mT\u001b[0m\u001b[0;34m[\u001b[0m\u001b[0;36m0\u001b[0m\u001b[0;34m,\u001b[0m \u001b[0;34m:\u001b[0m\u001b[0;34m]\u001b[0m\u001b[0;34m]\u001b[0m\u001b[0;34m)\u001b[0m\u001b[0;34m\u001b[0m\u001b[0;34m\u001b[0m\u001b[0m\n\u001b[0m\u001b[1;32m     28\u001b[0m \u001b[0;34m\u001b[0m\u001b[0m\n\u001b[1;32m     29\u001b[0m \u001b[0;34m\u001b[0m\u001b[0m\n",
      "\u001b[0;32m~/.local/lib/python3.8/site-packages/causal_discovery/algorithm/local_ng_cd/util/scorecond.py\u001b[0m in \u001b[0;36mscorecond\u001b[0;34m(data, q, bdwidth, cova)\u001b[0m\n\u001b[1;32m     85\u001b[0m     ker = (\n\u001b[1;32m     86\u001b[0m         xp.array(\n\u001b[0;32m---> 87\u001b[0;31m             \u001b[0;34m[\u001b[0m\u001b[0;34m(\u001b[0m\u001b[0;36m1\u001b[0m \u001b[0;34m-\u001b[0m \u001b[0mr\u001b[0m\u001b[0;34m[\u001b[0m\u001b[0;34m:\u001b[0m\u001b[0;34m,\u001b[0m \u001b[0;36m0\u001b[0m\u001b[0;34m]\u001b[0m\u001b[0;34m)\u001b[0m \u001b[0;34m**\u001b[0m \u001b[0;36m2\u001b[0m \u001b[0;34m/\u001b[0m \u001b[0;36m2\u001b[0m\u001b[0;34m,\u001b[0m \u001b[0;36m0.5\u001b[0m \u001b[0;34m+\u001b[0m \u001b[0mr\u001b[0m\u001b[0;34m[\u001b[0m\u001b[0;34m:\u001b[0m\u001b[0;34m,\u001b[0m \u001b[0;36m0\u001b[0m\u001b[0;34m]\u001b[0m \u001b[0;34m*\u001b[0m \u001b[0;34m(\u001b[0m\u001b[0;36m1\u001b[0m \u001b[0;34m-\u001b[0m \u001b[0mr\u001b[0m\u001b[0;34m[\u001b[0m\u001b[0;34m:\u001b[0m\u001b[0;34m,\u001b[0m \u001b[0;36m0\u001b[0m\u001b[0;34m]\u001b[0m\u001b[0;34m)\u001b[0m\u001b[0;34m,\u001b[0m \u001b[0mr\u001b[0m\u001b[0;34m[\u001b[0m\u001b[0;34m:\u001b[0m\u001b[0;34m,\u001b[0m \u001b[0;36m0\u001b[0m\u001b[0;34m]\u001b[0m \u001b[0;34m**\u001b[0m \u001b[0;36m2\u001b[0m \u001b[0;34m/\u001b[0m \u001b[0;36m2\u001b[0m\u001b[0;34m]\u001b[0m\u001b[0;34m\u001b[0m\u001b[0;34m\u001b[0m\u001b[0m\n\u001b[0m\u001b[1;32m     88\u001b[0m         )\n\u001b[1;32m     89\u001b[0m         \u001b[0;34m.\u001b[0m\u001b[0mconj\u001b[0m\u001b[0;34m(\u001b[0m\u001b[0;34m)\u001b[0m\u001b[0;34m\u001b[0m\u001b[0;34m\u001b[0m\u001b[0m\n",
      "\u001b[0;31mKeyboardInterrupt\u001b[0m: "
     ]
    }
   ],
   "source": [
    "errors = []\n",
    "with open(\"data/result.csv\", \"w\") as f:\n",
    "    f.write(\"target\\ttoken_x\\ttoken_y\\ttitle_x\\ttitle_y\\tprocess_x\\tprocess_y\\tweight\\n\")\n",
    "    for target in tqdm(df.index):\n",
    "        try:\n",
    "            target_name = trans_text(token_2_title[target])\n",
    "            edges_trust = get_causal_result(target)\n",
    "            for x, y, z in edges_trust:\n",
    "                x_name = trans_text(token_2_title[x])\n",
    "                y_name = trans_text(token_2_title[y])\n",
    "                x_process = trans_text(map_df.loc[x, \"Process\"])\n",
    "                y_process = trans_text(map_df.loc[y, \"Process\"])\n",
    "                f.write(f\"{target}\\t{x}\\t{y}\\t{x_name}\\t{y_name}\\t{x_process}\\t{y_process}\\t{z}\\n\")\n",
    "        except Exception as e:\n",
    "            print(sys.exc_info())\n",
    "            errors.append(target)"
   ]
  },
  {
   "cell_type": "code",
   "execution_count": 62,
   "id": "disabled-gossip",
   "metadata": {},
   "outputs": [
    {
     "data": {
      "text/plain": [
       "['117_at',\n",
       " '1294_at',\n",
       " '1552256_a_at',\n",
       " '1552257_a_at',\n",
       " '1552263_at',\n",
       " '1552264_a_at',\n",
       " '1552275_s_at',\n",
       " '1552277_a_at',\n",
       " '1552287_s_at',\n",
       " '1552291_at',\n",
       " '1552309_a_at',\n",
       " '1552310_at',\n",
       " '1552315_at',\n",
       " '1552316_a_at',\n",
       " '1552318_at',\n",
       " '1552321_a_at',\n",
       " '1552323_s_at',\n",
       " '1552329_at',\n",
       " '1552347_at',\n",
       " '1552370_at']"
      ]
     },
     "execution_count": 62,
     "metadata": {},
     "output_type": "execute_result"
    }
   ],
   "source": [
    "errors"
   ]
  },
  {
   "cell_type": "code",
   "execution_count": null,
   "id": "sweet-fitting",
   "metadata": {},
   "outputs": [],
   "source": []
  }
 ],
 "metadata": {
  "kernelspec": {
   "display_name": "Python 3",
   "language": "python",
   "name": "python3"
  },
  "language_info": {
   "codemirror_mode": {
    "name": "ipython",
    "version": 3
   },
   "file_extension": ".py",
   "mimetype": "text/x-python",
   "name": "python",
   "nbconvert_exporter": "python",
   "pygments_lexer": "ipython3",
   "version": "3.8.0"
  }
 },
 "nbformat": 4,
 "nbformat_minor": 5
}
