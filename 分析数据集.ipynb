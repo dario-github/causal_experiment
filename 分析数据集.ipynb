{
 "cells": [
  {
   "cell_type": "code",
   "execution_count": 1,
   "id": "rising-period",
   "metadata": {},
   "outputs": [],
   "source": [
    "from pyforest import *\n",
    "import pandas as pd\n",
    "from pathlib import Path\n",
    "from functional import seq\n",
    "from tqdm import tqdm"
   ]
  },
  {
   "cell_type": "code",
   "execution_count": 2,
   "id": "approximate-programmer",
   "metadata": {},
   "outputs": [
    {
     "name": "stdout",
     "output_type": "stream",
     "text": [
      "\n"
     ]
    }
   ],
   "source": [
    "!echo $GOOGLE_APPLICATION_CREDENTIALS"
   ]
  },
  {
   "cell_type": "markdown",
   "id": "thirty-namibia",
   "metadata": {},
   "source": [
    "## 翻译"
   ]
  },
  {
   "cell_type": "code",
   "execution_count": 3,
   "id": "acceptable-interpretation",
   "metadata": {
    "tags": []
   },
   "outputs": [
    {
     "data": {
      "text/plain": [
       "'你好'"
      ]
     },
     "execution_count": 3,
     "metadata": {},
     "output_type": "execute_result"
    }
   ],
   "source": [
    "#导入需要的包\n",
    "import pandas as pd\n",
    "import numpy as np\n",
    "import requests\n",
    "import json\n",
    "def youdao_translate(word):\n",
    "    # 有道词典 api\n",
    "    url = 'http://fanyi.youdao.com/translate?smartresult=dict&smartresult=rule&smartresult=ugc&sessionFrom=null'\n",
    "    # 传输的参数，其中 i 为需要翻译的内容\n",
    "    key = {\n",
    "        'type': \"AUTO\",\n",
    "        'i': word,\n",
    "        \"doctype\": \"json\",\n",
    "        \"version\": \"2.1\",\n",
    "        \"keyfrom\": \"fanyi.web\",\n",
    "        \"ue\": \"UTF-8\",\n",
    "        \"action\": \"FY_BY_CLICKBUTTON\",\n",
    "        \"typoResult\": \"true\"\n",
    "    }\n",
    "    # key 这个字典为发送给有道词典服务器的内容\n",
    "    response = requests.post(url, data=key)\n",
    "    # 判断服务器是否相应成功\n",
    "    if response.status_code == 200:\n",
    "        # 然后相应的结果\n",
    "        return response.text\n",
    "    else:\n",
    "        print(\"有道词典调用失败\")\n",
    "        # 相应失败就返回空\n",
    "        return None\n",
    " \n",
    " \n",
    "def trans_text(word):\n",
    "    list_trans = youdao_translate(word)\n",
    "    result = json.loads(list_trans)\n",
    "    result = result['translateResult'][0][0]['tgt']\n",
    "    return result\n",
    "\n",
    "#调用\n",
    "trans_text('Hello')\n",
    "#结果《The 21st century》"
   ]
  },
  {
   "cell_type": "code",
   "execution_count": 4,
   "id": "communist-mounting",
   "metadata": {},
   "outputs": [],
   "source": [
    "# !export GOOGLE_APPLICATION_CREDENTIALS=/home/dario/workspace/liyuan_paper/zdclink2-14952da40bc3.json"
   ]
  },
  {
   "cell_type": "code",
   "execution_count": 5,
   "id": "enormous-liechtenstein",
   "metadata": {
    "tags": []
   },
   "outputs": [],
   "source": [
    "# !python3.8 -m pip install -q googletrans==3.1.0a0\n",
    "\n",
    "# from googletrans import Translator\n",
    "# translator = Translator()\n",
    "# def google_trans(text):\n",
    "#     return translator.translate(text, dest=\"zh-cn\").text\n",
    "\n",
    "# google_trans(\"Hello\")"
   ]
  },
  {
   "cell_type": "markdown",
   "id": "amended-vegetarian",
   "metadata": {},
   "source": [
    "## 数据"
   ]
  },
  {
   "cell_type": "code",
   "execution_count": 6,
   "id": "instant-brazilian",
   "metadata": {},
   "outputs": [],
   "source": [
    "root_dir = Path(\"/home/dario\")\n",
    "data_file = root_dir / \"workspace/causal_experiment/data/GSE42057_series_matrix.txt\""
   ]
  },
  {
   "cell_type": "code",
   "execution_count": 7,
   "id": "twenty-playback",
   "metadata": {},
   "outputs": [
    {
     "name": "stderr",
     "output_type": "stream",
     "text": [
      "/home/dario/.local/lib/python3.8/site-packages/IPython/core/interactiveshell.py:3165: DtypeWarning: Columns (1,2,3,4,5,6,7,8,9,10,11,12,13,14,15,16,17,18,19,20,21,22,23,24,25,26,27,28,29,30,31,32,33,34,35,36,37,38,39,40,41,42,43,44,45,46,47,48,49,50,51,52,53,54,55,56,57,58,59,60,61,62,63,64,65,66,67,68,69,70,71,72,73,74,75,76,77,78,79,80,81,82,83,84,85,86,87,88,89,90,91,92,93,94,95,96,97,98,99,100,101,102,103,104,105,106,107,108,109,110,111,112,113,114,115,116,117,118,119,120,121,122,123,124,125,126,127,128,129,130,131,132,133,134,135,136) have mixed types.Specify dtype option on import or set low_memory=False.\n",
      "  has_raised = await self.run_ast_nodes(code_ast.body, cell_name,\n"
     ]
    }
   ],
   "source": [
    "# df = pd.read_csv(data_file, delimiter=\"\\t\", skiprows=78, index_col=0, header=None)\n",
    "df = pd.read_csv(data_file, delimiter=\"\\t\", skiprows=33, index_col=0, header=0)"
   ]
  },
  {
   "cell_type": "code",
   "execution_count": 15,
   "id": "worthy-quantum",
   "metadata": {},
   "outputs": [],
   "source": [
    "df.dropna(inplace=True)"
   ]
  },
  {
   "cell_type": "code",
   "execution_count": 21,
   "id": "coupled-killing",
   "metadata": {},
   "outputs": [],
   "source": [
    "matrix_data = df.tail(-43)"
   ]
  },
  {
   "cell_type": "code",
   "execution_count": 35,
   "id": "national-break",
   "metadata": {},
   "outputs": [
    {
     "data": {
      "text/plain": [
       "['样品加入地理', '样品状态', '样品提交日期', '示例最后更新日期', '样本类型', '采样通道数', '示例源名称ch1', '样品生物ch1', 'ch1样本特征', 'ch1样本特征', 'ch1样本特征', 'ch1样本特征', 'ch1样本特征', 'ch1样本特征', 'ch1样本特征', 'ch1样本特征', 'ch1样本特征', 'ch1样本特征', 'ch1样本特征', 'ch1样本特征', 'ch1样本特征', '样品分子ch1', '样本提取协议ch1', '样品标签ch1', '样品标签协议ch1', '样本taxid ch1', 'hyb协议样本', '样品扫描协议', '样本数据处理', '样品平台id', '示例联系人姓名', '样品联系邮件', '样品联系实验室', '样品接触研究所', '样品联系地址', '样品联系市', '样品接触状态', '样品联系邮政编码', '样品接触的国家', '补充文件示例', '样本数据行数', '样的关系', '样的关系', '系列矩阵表开始', '系列矩阵表结束']"
      ]
     },
     "execution_count": 35,
     "metadata": {},
     "output_type": "execute_result"
    }
   ],
   "source": [
    "(seq(df.index)\n",
    " .filter(lambda x: x.startswith(\"!\"))\n",
    " .map(lambda x: trans_text(x[1:].replace(\"_\", \" \")))\n",
    ")"
   ]
  },
  {
   "cell_type": "markdown",
   "id": "cathedral-rocket",
   "metadata": {},
   "source": [
    "### 映射"
   ]
  },
  {
   "cell_type": "code",
   "execution_count": 22,
   "id": "endless-rachel",
   "metadata": {},
   "outputs": [],
   "source": [
    "tmp = !head -17 data/GPL570-55999.txt"
   ]
  },
  {
   "cell_type": "code",
   "execution_count": 23,
   "id": "inside-prayer",
   "metadata": {},
   "outputs": [
    {
     "name": "stderr",
     "output_type": "stream",
     "text": [
      "/home/dario/.local/lib/python3.8/site-packages/IPython/core/interactiveshell.py:3165: DtypeWarning: Columns (2) have mixed types.Specify dtype option on import or set low_memory=False.\n",
      "  has_raised = await self.run_ast_nodes(code_ast.body, cell_name,\n"
     ]
    }
   ],
   "source": [
    "map_df = pd.read_csv(\"data/GPL570-55999.txt\", sep=\"\\t\", skiprows=16, index_col=0)"
   ]
  },
  {
   "cell_type": "code",
   "execution_count": 24,
   "id": "temporal-mustang",
   "metadata": {},
   "outputs": [],
   "source": [
    "map_df[\"Process\"] = (\n",
    "    seq(map_df[\"Gene Ontology Biological Process\"])\n",
    "     .map(lambda x: x if isinstance(x, str) else \"None//None//None\")\n",
    "     .map(lambda x: x.split(\"///\"))\n",
    "     .map(lambda x: [y.split(\"//\")[1].strip() for y in x])\n",
    "     .map(lambda x: ','.join(x))\n",
    "    #  .map(lambda x: [y for y in x if not (y.startswith(\"inferred from\") or y.startswith(\"traceable author statement\"))])\n",
    ").to_list()"
   ]
  },
  {
   "cell_type": "code",
   "execution_count": 25,
   "id": "steady-power",
   "metadata": {},
   "outputs": [],
   "source": [
    "map_df = map_df[[\"Gene Title\", \"Process\"]]"
   ]
  },
  {
   "cell_type": "code",
   "execution_count": 26,
   "id": "julian-china",
   "metadata": {},
   "outputs": [],
   "source": [
    "map_df.fillna(\"None\", inplace=True)"
   ]
  },
  {
   "cell_type": "code",
   "execution_count": 27,
   "id": "neutral-withdrawal",
   "metadata": {},
   "outputs": [
    {
     "data": {
      "text/plain": [
       "'cell morphogenesis,ATP catabolic process,response to stress,response to unfolded protein,cellular response to heat,protein refolding,cellular heat acclimation'"
      ]
     },
     "execution_count": 27,
     "metadata": {},
     "output_type": "execute_result"
    }
   ],
   "source": [
    "map_df.loc[\"117_at\", \"Gene Title\"]\n",
    "map_df.loc[\"117_at\", \"Process\"]"
   ]
  },
  {
   "cell_type": "code",
   "execution_count": 28,
   "id": "closing-yemen",
   "metadata": {},
   "outputs": [],
   "source": [
    "token_2_title = dict(zip(map_df[[\"Gene Title\"]].index, map_df[\"Gene Title\"].values))"
   ]
  },
  {
   "cell_type": "code",
   "execution_count": 17,
   "id": "according-colony",
   "metadata": {
    "tags": []
   },
   "outputs": [],
   "source": [
    "# import time\n",
    "# with open(\"data/GSE42057_token_2_title.txt\", \"w\") as f:\n",
    "#     for token in tqdm(df.index):\n",
    "#         try:\n",
    "#             f.write(f\"{token}\\t{google_trans(token_2_title.get(token))}\\n\")\n",
    "#         except Exception:\n",
    "#             pass\n",
    "#         time.sleep(2)"
   ]
  },
  {
   "cell_type": "markdown",
   "id": "automatic-cherry",
   "metadata": {},
   "source": [
    "## 计算"
   ]
  },
  {
   "cell_type": "code",
   "execution_count": 52,
   "id": "enormous-question",
   "metadata": {},
   "outputs": [
    {
     "data": {
      "text/plain": [
       "'1.0.5'"
      ]
     },
     "execution_count": 52,
     "metadata": {},
     "output_type": "execute_result"
    }
   ],
   "source": [
    "import causal_discovery\n",
    "causal_discovery.__version__"
   ]
  },
  {
   "cell_type": "code",
   "execution_count": 53,
   "id": "welcome-quebec",
   "metadata": {},
   "outputs": [],
   "source": [
    "from causal_discovery.parameter.log import config_log\n",
    "config_log(\n",
    "    \"causal_discovery\",\n",
    "    \"local_ng_cd\",\n",
    "    log_root=\"/home/dario/workspace/liyuan_paper/log\",\n",
    "    print_terminal=False,\n",
    "    enable_monitor=True,\n",
    ")"
   ]
  },
  {
   "cell_type": "code",
   "execution_count": 54,
   "id": "charged-circuit",
   "metadata": {},
   "outputs": [],
   "source": [
    "from causal_discovery.algorithm.local_ng_cd.local_ng_cd import local_ng_cd\n",
    "from causal_discovery.data_prepare.matrix_data import get_matrix_data\n",
    "from causal_discovery.parameter.algo import DataType, LocalNgCdParam\n",
    "from causal_discovery.parameter.env import select_xp\n",
    "from causal_discovery.parameter.error import DataTypeError\n",
    "\n",
    "xp = select_xp()"
   ]
  },
  {
   "cell_type": "code",
   "execution_count": 55,
   "id": "empirical-explosion",
   "metadata": {},
   "outputs": [],
   "source": [
    "def get_causal_result(target):\n",
    "    matrix_data = get_matrix_data(\n",
    "        target,\n",
    "        corr_filter=True,\n",
    "        need_norm=False,\n",
    "        ret_df=df.T,\n",
    "    ).T\n",
    "\n",
    "    # 暴露出来允许修改的参数\n",
    "    param = LocalNgCdParam()\n",
    "    param.candidate_two_step = False\n",
    "    param.target_index = list(matrix_data.columns).index(target)\n",
    "    # 变量token -> name\n",
    "    index_map = dict(enumerate(matrix_data.columns))\n",
    "    # 调用主函数计算因果\n",
    "    edges_trust, synthesize_effect = local_ng_cd(\n",
    "        xp.asarray(matrix_data.T.to_numpy()), param, synthesize=True\n",
    "    )\n",
    "    edges_trust = [\n",
    "        (index_map.get(int(causal), \"N\"), index_map.get(int(result), \"N\"), weight)\n",
    "        for causal, result, weight in edges_trust\n",
    "    ]\n",
    "    return edges_trust"
   ]
  },
  {
   "cell_type": "code",
   "execution_count": 19,
   "id": "guided-subcommittee",
   "metadata": {},
   "outputs": [
    {
     "data": {
      "text/plain": [
       "'microRNA 5193 / / / ubiquitin-like修改器激活酶7'"
      ]
     },
     "execution_count": 19,
     "metadata": {},
     "output_type": "execute_result"
    }
   ],
   "source": [
    "target = \"1294_at\"\n",
    "trans_text(token_2_title[target])"
   ]
  },
  {
   "cell_type": "code",
   "execution_count": 20,
   "id": "comic-fourth",
   "metadata": {},
   "outputs": [
    {
     "data": {
      "text/html": [
       "<div>\n",
       "<style scoped>\n",
       "    .dataframe tbody tr th:only-of-type {\n",
       "        vertical-align: middle;\n",
       "    }\n",
       "\n",
       "    .dataframe tbody tr th {\n",
       "        vertical-align: top;\n",
       "    }\n",
       "\n",
       "    .dataframe thead th {\n",
       "        text-align: right;\n",
       "    }\n",
       "</style>\n",
       "<table border=\"1\" class=\"dataframe\">\n",
       "  <thead>\n",
       "    <tr style=\"text-align: right;\">\n",
       "      <th></th>\n",
       "      <th>0</th>\n",
       "      <th>1</th>\n",
       "      <th>2</th>\n",
       "    </tr>\n",
       "  </thead>\n",
       "  <tbody>\n",
       "    <tr>\n",
       "      <th>0</th>\n",
       "      <td>排序nexin 6</td>\n",
       "      <td>microRNA 5193 / / / ubiquitin-like修改器激活酶7</td>\n",
       "      <td>10.222674</td>\n",
       "    </tr>\n",
       "    <tr>\n",
       "      <th>1</th>\n",
       "      <td>microRNA 5193 / / / ubiquitin-like修改器激活酶7</td>\n",
       "      <td>translin</td>\n",
       "      <td>-13.021033</td>\n",
       "    </tr>\n",
       "  </tbody>\n",
       "</table>\n",
       "</div>"
      ],
      "text/plain": [
       "                                           0  \\\n",
       "0                                  排序nexin 6   \n",
       "1  microRNA 5193 / / / ubiquitin-like修改器激活酶7   \n",
       "\n",
       "                                           1          2  \n",
       "0  microRNA 5193 / / / ubiquitin-like修改器激活酶7  10.222674  \n",
       "1                                   translin -13.021033  "
      ]
     },
     "execution_count": 20,
     "metadata": {},
     "output_type": "execute_result"
    }
   ],
   "source": [
    "edges_trust = get_causal_result(target)\n",
    "pd.DataFrame([(trans_text(token_2_title[x]), trans_text(token_2_title[y]), z) for x, y, z in edges_trust])"
   ]
  },
  {
   "cell_type": "code",
   "execution_count": 57,
   "id": "induced-symbol",
   "metadata": {},
   "outputs": [
    {
     "data": {
      "text/plain": [
       "'蛋白质磷酸化酶联受体蛋白信号通路,磷酸化,peptidyl-tyrosine磷酸化,cytokine-mediated信号通路、细胞内信号转导,interleukin-2-mediated信号通路,应对抗生素,蛋白质自身磷酸化,interferon-gamma-mediated信号通路,调节interferon-gamma-mediated信号通路,I型干扰素信号通路,调节I型interferon-mediated信号通路'"
      ]
     },
     "execution_count": 57,
     "metadata": {},
     "output_type": "execute_result"
    }
   ],
   "source": [
    "trans_text(x_process)"
   ]
  },
  {
   "cell_type": "code",
   "execution_count": 63,
   "id": "technological-pavilion",
   "metadata": {},
   "outputs": [],
   "source": [
    "import sys"
   ]
  },
  {
   "cell_type": "code",
   "execution_count": 69,
   "id": "unable-springer",
   "metadata": {
    "collapsed": true,
    "jupyter": {
     "outputs_hidden": true
    },
    "tags": []
   },
   "outputs": [
    {
     "name": "stderr",
     "output_type": "stream",
     "text": [
      "  0%|          | 0/12531 [00:12<?, ?it/s]\n"
     ]
    },
    {
     "ename": "KeyboardInterrupt",
     "evalue": "",
     "output_type": "error",
     "traceback": [
      "\u001b[0;31m---------------------------------------------------------------------------\u001b[0m",
      "\u001b[0;31mKeyboardInterrupt\u001b[0m                         Traceback (most recent call last)",
      "\u001b[0;32m<ipython-input-69-684b8e6fbc56>\u001b[0m in \u001b[0;36m<module>\u001b[0;34m\u001b[0m\n\u001b[1;32m      5\u001b[0m         \u001b[0;32mtry\u001b[0m\u001b[0;34m:\u001b[0m\u001b[0;34m\u001b[0m\u001b[0;34m\u001b[0m\u001b[0m\n\u001b[1;32m      6\u001b[0m             \u001b[0mtarget_name\u001b[0m \u001b[0;34m=\u001b[0m \u001b[0mtrans_text\u001b[0m\u001b[0;34m(\u001b[0m\u001b[0mtoken_2_title\u001b[0m\u001b[0;34m[\u001b[0m\u001b[0mtarget\u001b[0m\u001b[0;34m]\u001b[0m\u001b[0;34m)\u001b[0m\u001b[0;34m\u001b[0m\u001b[0;34m\u001b[0m\u001b[0m\n\u001b[0;32m----> 7\u001b[0;31m             \u001b[0medges_trust\u001b[0m \u001b[0;34m=\u001b[0m \u001b[0mget_causal_result\u001b[0m\u001b[0;34m(\u001b[0m\u001b[0mtarget\u001b[0m\u001b[0;34m)\u001b[0m\u001b[0;34m\u001b[0m\u001b[0;34m\u001b[0m\u001b[0m\n\u001b[0m\u001b[1;32m      8\u001b[0m             \u001b[0;32mfor\u001b[0m \u001b[0mx\u001b[0m\u001b[0;34m,\u001b[0m \u001b[0my\u001b[0m\u001b[0;34m,\u001b[0m \u001b[0mz\u001b[0m \u001b[0;32min\u001b[0m \u001b[0medges_trust\u001b[0m\u001b[0;34m:\u001b[0m\u001b[0;34m\u001b[0m\u001b[0;34m\u001b[0m\u001b[0m\n\u001b[1;32m      9\u001b[0m                 \u001b[0mx_name\u001b[0m \u001b[0;34m=\u001b[0m \u001b[0mtrans_text\u001b[0m\u001b[0;34m(\u001b[0m\u001b[0mtoken_2_title\u001b[0m\u001b[0;34m[\u001b[0m\u001b[0mx\u001b[0m\u001b[0;34m]\u001b[0m\u001b[0;34m)\u001b[0m\u001b[0;34m\u001b[0m\u001b[0;34m\u001b[0m\u001b[0m\n",
      "\u001b[0;32m<ipython-input-55-d91833a43b32>\u001b[0m in \u001b[0;36mget_causal_result\u001b[0;34m(target)\u001b[0m\n\u001b[1;32m     14\u001b[0m     \u001b[0mindex_map\u001b[0m \u001b[0;34m=\u001b[0m \u001b[0mdict\u001b[0m\u001b[0;34m(\u001b[0m\u001b[0menumerate\u001b[0m\u001b[0;34m(\u001b[0m\u001b[0mmatrix_data\u001b[0m\u001b[0;34m.\u001b[0m\u001b[0mcolumns\u001b[0m\u001b[0;34m)\u001b[0m\u001b[0;34m)\u001b[0m\u001b[0;34m\u001b[0m\u001b[0;34m\u001b[0m\u001b[0m\n\u001b[1;32m     15\u001b[0m     \u001b[0;31m# 调用主函数计算因果\u001b[0m\u001b[0;34m\u001b[0m\u001b[0;34m\u001b[0m\u001b[0;34m\u001b[0m\u001b[0m\n\u001b[0;32m---> 16\u001b[0;31m     edges_trust, synthesize_effect = local_ng_cd(\n\u001b[0m\u001b[1;32m     17\u001b[0m         \u001b[0mxp\u001b[0m\u001b[0;34m.\u001b[0m\u001b[0masarray\u001b[0m\u001b[0;34m(\u001b[0m\u001b[0mmatrix_data\u001b[0m\u001b[0;34m.\u001b[0m\u001b[0mT\u001b[0m\u001b[0;34m.\u001b[0m\u001b[0mto_numpy\u001b[0m\u001b[0;34m(\u001b[0m\u001b[0;34m)\u001b[0m\u001b[0;34m)\u001b[0m\u001b[0;34m,\u001b[0m \u001b[0mparam\u001b[0m\u001b[0;34m,\u001b[0m \u001b[0msynthesize\u001b[0m\u001b[0;34m=\u001b[0m\u001b[0;32mTrue\u001b[0m\u001b[0;34m\u001b[0m\u001b[0;34m\u001b[0m\u001b[0m\n\u001b[1;32m     18\u001b[0m     )\n",
      "\u001b[0;32m~/.local/lib/python3.8/site-packages/causal_discovery/algorithm/local_ng_cd/local_ng_cd.py\u001b[0m in \u001b[0;36mlocal_ng_cd\u001b[0;34m(x, param, synthesize)\u001b[0m\n\u001b[1;32m    193\u001b[0m     \u001b[0;31m# 执行受约束的ICA\u001b[0m\u001b[0;34m\u001b[0m\u001b[0;34m\u001b[0m\u001b[0;34m\u001b[0m\u001b[0m\n\u001b[1;32m    194\u001b[0m     \u001b[0mregu\u001b[0m \u001b[0;34m=\u001b[0m \u001b[0mparam\u001b[0m\u001b[0;34m.\u001b[0m\u001b[0mica_regu\u001b[0m\u001b[0;34m\u001b[0m\u001b[0;34m\u001b[0m\u001b[0m\n\u001b[0;32m--> 195\u001b[0;31m     _, w_m, _, _ = sparseica_W_adasize_Alasso_mask_regu(\n\u001b[0m\u001b[1;32m    196\u001b[0m         \u001b[0mx\u001b[0m\u001b[0;34m[\u001b[0m\u001b[0mind_mb\u001b[0m\u001b[0;34m,\u001b[0m \u001b[0;34m:\u001b[0m\u001b[0;34m]\u001b[0m\u001b[0;34m,\u001b[0m \u001b[0mmask\u001b[0m\u001b[0;34m,\u001b[0m \u001b[0mmath\u001b[0m\u001b[0;34m.\u001b[0m\u001b[0mlog\u001b[0m\u001b[0;34m(\u001b[0m\u001b[0msample_size\u001b[0m\u001b[0;34m)\u001b[0m\u001b[0;34m,\u001b[0m \u001b[0mregu\u001b[0m\u001b[0;34m\u001b[0m\u001b[0;34m\u001b[0m\u001b[0m\n\u001b[1;32m    197\u001b[0m     )\n",
      "\u001b[0;32m~/.local/lib/python3.8/site-packages/causal_discovery/algorithm/local_ng_cd/util/sparseica_w_adasize_alasso_mask_regu.py\u001b[0m in \u001b[0;36msparseica_W_adasize_Alasso_mask_regu\u001b[0;34m(x, mask, lambda_param, regu)\u001b[0m\n\u001b[1;32m    173\u001b[0m     \u001b[0mica_model\u001b[0m\u001b[0;34m.\u001b[0m\u001b[0mnum_edges\u001b[0m \u001b[0;34m=\u001b[0m \u001b[0mxp\u001b[0m\u001b[0;34m.\u001b[0m\u001b[0msum\u001b[0m\u001b[0;34m(\u001b[0m\u001b[0mmask\u001b[0m\u001b[0;34m,\u001b[0m \u001b[0maxis\u001b[0m\u001b[0;34m=\u001b[0m\u001b[0;34m(\u001b[0m\u001b[0;36m0\u001b[0m\u001b[0;34m,\u001b[0m \u001b[0;36m1\u001b[0m\u001b[0;34m)\u001b[0m\u001b[0;34m)\u001b[0m\u001b[0;34m\u001b[0m\u001b[0;34m\u001b[0m\u001b[0m\n\u001b[1;32m    174\u001b[0m \u001b[0;34m\u001b[0m\u001b[0m\n\u001b[0;32m--> 175\u001b[0;31m     \u001b[0minitialization\u001b[0m\u001b[0;34m(\u001b[0m\u001b[0mnew_x\u001b[0m\u001b[0;34m,\u001b[0m \u001b[0mica_model\u001b[0m\u001b[0;34m)\u001b[0m\u001b[0;34m\u001b[0m\u001b[0;34m\u001b[0m\u001b[0m\n\u001b[0m\u001b[1;32m    176\u001b[0m     \u001b[0;32mreturn\u001b[0m \u001b[0mpenalization\u001b[0m\u001b[0;34m(\u001b[0m\u001b[0mx\u001b[0m\u001b[0;34m,\u001b[0m \u001b[0mnew_x\u001b[0m\u001b[0;34m,\u001b[0m \u001b[0mstd_x\u001b[0m\u001b[0;34m,\u001b[0m \u001b[0mica_model\u001b[0m\u001b[0;34m)\u001b[0m\u001b[0;34m\u001b[0m\u001b[0;34m\u001b[0m\u001b[0m\n\u001b[1;32m    177\u001b[0m \u001b[0;34m\u001b[0m\u001b[0m\n",
      "\u001b[0;32m~/.local/lib/python3.8/site-packages/causal_discovery/algorithm/local_ng_cd/util/sparseica_w_adasize_alasso_mask_regu.py\u001b[0m in \u001b[0;36minitialization\u001b[0;34m(new_x, ica_model)\u001b[0m\n\u001b[1;32m     50\u001b[0m         \u001b[0mlogging\u001b[0m\u001b[0;34m.\u001b[0m\u001b[0minfo\u001b[0m\u001b[0;34m(\u001b[0m\u001b[0;34m\"Initialization....\"\u001b[0m\u001b[0;34m)\u001b[0m\u001b[0;34m\u001b[0m\u001b[0;34m\u001b[0m\u001b[0m\n\u001b[1;32m     51\u001b[0m         \u001b[0;31m# w_temp = xp.diag(1 / xp.std(new_x, axis=1, ddof=1))\u001b[0m\u001b[0;34m\u001b[0m\u001b[0;34m\u001b[0m\u001b[0;34m\u001b[0m\u001b[0m\n\u001b[0;32m---> 52\u001b[0;31m         \u001b[0mw_temp\u001b[0m \u001b[0;34m=\u001b[0m \u001b[0mnatural_grad_Adasize_Mask_regu\u001b[0m\u001b[0;34m(\u001b[0m\u001b[0mnew_x\u001b[0m\u001b[0;34m,\u001b[0m \u001b[0mica_model\u001b[0m\u001b[0;34m.\u001b[0m\u001b[0mmask\u001b[0m\u001b[0;34m,\u001b[0m \u001b[0mica_model\u001b[0m\u001b[0;34m.\u001b[0m\u001b[0mregu\u001b[0m\u001b[0;34m)\u001b[0m\u001b[0;34m\u001b[0m\u001b[0;34m\u001b[0m\u001b[0m\n\u001b[0m\u001b[1;32m     53\u001b[0m         \u001b[0momega_temp\u001b[0m \u001b[0;34m=\u001b[0m \u001b[0mxp\u001b[0m\u001b[0;34m.\u001b[0m\u001b[0marray\u001b[0m\u001b[0;34m(\u001b[0m\u001b[0;34m[\u001b[0m\u001b[0;36m1\u001b[0m \u001b[0;34m/\u001b[0m \u001b[0mabs\u001b[0m\u001b[0;34m(\u001b[0m\u001b[0mw_temp\u001b[0m\u001b[0;34m[\u001b[0m\u001b[0mica_model\u001b[0m\u001b[0;34m.\u001b[0m\u001b[0mmask\u001b[0m \u001b[0;34m!=\u001b[0m \u001b[0;36m0\u001b[0m\u001b[0;34m]\u001b[0m\u001b[0;34m)\u001b[0m\u001b[0;34m]\u001b[0m\u001b[0;34m)\u001b[0m\u001b[0;34m\u001b[0m\u001b[0;34m\u001b[0m\u001b[0m\n\u001b[1;32m     54\u001b[0m         \u001b[0;31m# to avoid instability\u001b[0m\u001b[0;34m\u001b[0m\u001b[0;34m\u001b[0m\u001b[0;34m\u001b[0m\u001b[0m\n",
      "\u001b[0;32m~/.local/lib/python3.8/site-packages/causal_discovery/algorithm/local_ng_cd/util/natural_grad_adasize_mask_regu.py\u001b[0m in \u001b[0;36mnatural_grad_Adasize_Mask_regu\u001b[0;34m(x, mask, regu, ww)\u001b[0m\n\u001b[1;32m     50\u001b[0m         \u001b[0;32mif\u001b[0m \u001b[0miter_\u001b[0m \u001b[0;34m%\u001b[0m \u001b[0;36m12\u001b[0m \u001b[0;34m==\u001b[0m \u001b[0;36m0\u001b[0m\u001b[0;34m:\u001b[0m\u001b[0;34m\u001b[0m\u001b[0;34m\u001b[0m\u001b[0m\n\u001b[1;32m     51\u001b[0m             \u001b[0;32mfor\u001b[0m \u001b[0mi\u001b[0m \u001b[0;32min\u001b[0m \u001b[0mrange\u001b[0m\u001b[0;34m(\u001b[0m\u001b[0mvar_num\u001b[0m\u001b[0;34m)\u001b[0m\u001b[0;34m:\u001b[0m\u001b[0;34m\u001b[0m\u001b[0;34m\u001b[0m\u001b[0m\n\u001b[0;32m---> 52\u001b[0;31m                 \u001b[0mtem\u001b[0m \u001b[0;34m=\u001b[0m \u001b[0mestim_beta_pham\u001b[0m\u001b[0;34m(\u001b[0m\u001b[0my\u001b[0m\u001b[0;34m[\u001b[0m\u001b[0;34m[\u001b[0m\u001b[0mi\u001b[0m\u001b[0;34m]\u001b[0m\u001b[0;34m,\u001b[0m \u001b[0;34m:\u001b[0m\u001b[0;34m]\u001b[0m\u001b[0;34m)\u001b[0m\u001b[0;34m\u001b[0m\u001b[0;34m\u001b[0m\u001b[0m\n\u001b[0m\u001b[1;32m     53\u001b[0m                 \u001b[0my_psi\u001b[0m\u001b[0;34m[\u001b[0m\u001b[0mi\u001b[0m\u001b[0;34m,\u001b[0m \u001b[0;34m:\u001b[0m\u001b[0;34m]\u001b[0m \u001b[0;34m=\u001b[0m \u001b[0mtem\u001b[0m\u001b[0;34m[\u001b[0m\u001b[0;36m0\u001b[0m\u001b[0;34m,\u001b[0m \u001b[0;34m:\u001b[0m\u001b[0;34m]\u001b[0m\u001b[0;34m\u001b[0m\u001b[0;34m\u001b[0m\u001b[0m\n\u001b[1;32m     54\u001b[0m                 \u001b[0midxs\u001b[0m \u001b[0;34m=\u001b[0m \u001b[0mxp\u001b[0m\u001b[0;34m.\u001b[0m\u001b[0margsort\u001b[0m\u001b[0;34m(\u001b[0m\u001b[0my\u001b[0m\u001b[0;34m[\u001b[0m\u001b[0mi\u001b[0m\u001b[0;34m,\u001b[0m \u001b[0;34m:\u001b[0m\u001b[0;34m]\u001b[0m\u001b[0;34m)\u001b[0m\u001b[0;34m\u001b[0m\u001b[0;34m\u001b[0m\u001b[0m\n",
      "\u001b[0;32m~/.local/lib/python3.8/site-packages/causal_discovery/algorithm/local_ng_cd/util/estim_beta_pham.py\u001b[0m in \u001b[0;36mestim_beta_pham\u001b[0;34m(x)\u001b[0m\n\u001b[1;32m     25\u001b[0m         \u001b[0;32mreturn\u001b[0m \u001b[0;32mNone\u001b[0m\u001b[0;34m\u001b[0m\u001b[0;34m\u001b[0m\u001b[0m\n\u001b[1;32m     26\u001b[0m \u001b[0;34m\u001b[0m\u001b[0m\n\u001b[0;32m---> 27\u001b[0;31m     \u001b[0;32mreturn\u001b[0m \u001b[0mxp\u001b[0m\u001b[0;34m.\u001b[0m\u001b[0marray\u001b[0m\u001b[0;34m(\u001b[0m\u001b[0;34m[\u001b[0m\u001b[0;34m-\u001b[0m\u001b[0mscorecond\u001b[0m\u001b[0;34m(\u001b[0m\u001b[0mx\u001b[0m\u001b[0;34m.\u001b[0m\u001b[0mT\u001b[0m\u001b[0;34m)\u001b[0m\u001b[0;34m[\u001b[0m\u001b[0;36m0\u001b[0m\u001b[0;34m]\u001b[0m\u001b[0;34m.\u001b[0m\u001b[0mT\u001b[0m\u001b[0;34m[\u001b[0m\u001b[0;36m0\u001b[0m\u001b[0;34m,\u001b[0m \u001b[0;34m:\u001b[0m\u001b[0;34m]\u001b[0m\u001b[0;34m,\u001b[0m \u001b[0;34m-\u001b[0m\u001b[0mscorecond\u001b[0m\u001b[0;34m(\u001b[0m\u001b[0mx\u001b[0m\u001b[0;34m[\u001b[0m\u001b[0;34m:\u001b[0m\u001b[0;34m:\u001b[0m\u001b[0;34m-\u001b[0m\u001b[0;36m1\u001b[0m\u001b[0;34m,\u001b[0m \u001b[0;34m:\u001b[0m\u001b[0;34m]\u001b[0m\u001b[0;34m.\u001b[0m\u001b[0mT\u001b[0m\u001b[0;34m)\u001b[0m\u001b[0;34m[\u001b[0m\u001b[0;36m0\u001b[0m\u001b[0;34m]\u001b[0m\u001b[0;34m.\u001b[0m\u001b[0mT\u001b[0m\u001b[0;34m[\u001b[0m\u001b[0;36m0\u001b[0m\u001b[0;34m,\u001b[0m \u001b[0;34m:\u001b[0m\u001b[0;34m]\u001b[0m\u001b[0;34m]\u001b[0m\u001b[0;34m)\u001b[0m\u001b[0;34m\u001b[0m\u001b[0;34m\u001b[0m\u001b[0m\n\u001b[0m\u001b[1;32m     28\u001b[0m \u001b[0;34m\u001b[0m\u001b[0m\n\u001b[1;32m     29\u001b[0m \u001b[0;34m\u001b[0m\u001b[0m\n",
      "\u001b[0;32m~/.local/lib/python3.8/site-packages/causal_discovery/algorithm/local_ng_cd/util/scorecond.py\u001b[0m in \u001b[0;36mscorecond\u001b[0;34m(data, q, bdwidth, cova)\u001b[0m\n\u001b[1;32m     85\u001b[0m     ker = (\n\u001b[1;32m     86\u001b[0m         xp.array(\n\u001b[0;32m---> 87\u001b[0;31m             \u001b[0;34m[\u001b[0m\u001b[0;34m(\u001b[0m\u001b[0;36m1\u001b[0m \u001b[0;34m-\u001b[0m \u001b[0mr\u001b[0m\u001b[0;34m[\u001b[0m\u001b[0;34m:\u001b[0m\u001b[0;34m,\u001b[0m \u001b[0;36m0\u001b[0m\u001b[0;34m]\u001b[0m\u001b[0;34m)\u001b[0m \u001b[0;34m**\u001b[0m \u001b[0;36m2\u001b[0m \u001b[0;34m/\u001b[0m \u001b[0;36m2\u001b[0m\u001b[0;34m,\u001b[0m \u001b[0;36m0.5\u001b[0m \u001b[0;34m+\u001b[0m \u001b[0mr\u001b[0m\u001b[0;34m[\u001b[0m\u001b[0;34m:\u001b[0m\u001b[0;34m,\u001b[0m \u001b[0;36m0\u001b[0m\u001b[0;34m]\u001b[0m \u001b[0;34m*\u001b[0m \u001b[0;34m(\u001b[0m\u001b[0;36m1\u001b[0m \u001b[0;34m-\u001b[0m \u001b[0mr\u001b[0m\u001b[0;34m[\u001b[0m\u001b[0;34m:\u001b[0m\u001b[0;34m,\u001b[0m \u001b[0;36m0\u001b[0m\u001b[0;34m]\u001b[0m\u001b[0;34m)\u001b[0m\u001b[0;34m,\u001b[0m \u001b[0mr\u001b[0m\u001b[0;34m[\u001b[0m\u001b[0;34m:\u001b[0m\u001b[0;34m,\u001b[0m \u001b[0;36m0\u001b[0m\u001b[0;34m]\u001b[0m \u001b[0;34m**\u001b[0m \u001b[0;36m2\u001b[0m \u001b[0;34m/\u001b[0m \u001b[0;36m2\u001b[0m\u001b[0;34m]\u001b[0m\u001b[0;34m\u001b[0m\u001b[0;34m\u001b[0m\u001b[0m\n\u001b[0m\u001b[1;32m     88\u001b[0m         )\n\u001b[1;32m     89\u001b[0m         \u001b[0;34m.\u001b[0m\u001b[0mconj\u001b[0m\u001b[0;34m(\u001b[0m\u001b[0;34m)\u001b[0m\u001b[0;34m\u001b[0m\u001b[0;34m\u001b[0m\u001b[0m\n",
      "\u001b[0;31mKeyboardInterrupt\u001b[0m: "
     ]
    }
   ],
   "source": [
    "errors = []\n",
    "with open(\"data/result.csv\", \"w\") as f:\n",
    "    f.write(\"target\\ttoken_x\\ttoken_y\\ttitle_x\\ttitle_y\\tprocess_x\\tprocess_y\\tweight\\n\")\n",
    "    for target in tqdm(df.index):\n",
    "        try:\n",
    "            target_name = trans_text(token_2_title[target])\n",
    "            edges_trust = get_causal_result(target)\n",
    "            for x, y, z in edges_trust:\n",
    "                x_name = trans_text(token_2_title[x])\n",
    "                y_name = trans_text(token_2_title[y])\n",
    "                x_process = trans_text(map_df.loc[x, \"Process\"])\n",
    "                y_process = trans_text(map_df.loc[y, \"Process\"])\n",
    "                f.write(f\"{target}\\t{x}\\t{y}\\t{x_name}\\t{y_name}\\t{x_process}\\t{y_process}\\t{z}\\n\")\n",
    "        except Exception as e:\n",
    "            print(sys.exc_info())\n",
    "            errors.append(target)"
   ]
  },
  {
   "cell_type": "markdown",
   "id": "functional-great",
   "metadata": {},
   "source": [
    "### cdt"
   ]
  },
  {
   "cell_type": "code",
   "execution_count": 29,
   "id": "baking-spelling",
   "metadata": {},
   "outputs": [
    {
     "name": "stderr",
     "output_type": "stream",
     "text": [
      "No GPU automatically detected. Setting SETTINGS.GPU to 0, and SETTINGS.NJOBS to cpu_count.\n"
     ]
    }
   ],
   "source": [
    "import random\n",
    "import os\n",
    "import numpy as np\n",
    "import torch\n",
    "\n",
    "import cdt\n",
    "import networkx as nx\n",
    "from pprint import pprint"
   ]
  },
  {
   "cell_type": "code",
   "execution_count": 30,
   "id": "waiting-somewhere",
   "metadata": {},
   "outputs": [],
   "source": [
    "def seed_torch(seed=1024):\n",
    "    random.seed(seed)\n",
    "    os.environ['PYTHONHASHSEED'] = str(seed)\n",
    "    np.random.seed(seed)\n",
    "    torch.manual_seed(seed)\n",
    "    torch.cuda.manual_seed(seed)\n",
    "    torch.cuda.manual_seed_all(seed)\n",
    "    torch.backends.cudnn.benchmark = False\n",
    "    torch.backends.cudnn.deterministic = True\n",
    "\n",
    "\n",
    "seed_torch()"
   ]
  },
  {
   "cell_type": "code",
   "execution_count": 32,
   "id": "competent-planet",
   "metadata": {},
   "outputs": [],
   "source": [
    "matrix_data = matrix_data.T"
   ]
  },
  {
   "cell_type": "code",
   "execution_count": 33,
   "id": "accepted-router",
   "metadata": {},
   "outputs": [
    {
     "ename": "MemoryError",
     "evalue": "Unable to allocate 1.17 GiB for an array with shape (12531, 12531) and data type float64",
     "output_type": "error",
     "traceback": [
      "\u001b[0;31m---------------------------------------------------------------------------\u001b[0m",
      "\u001b[0;31mMemoryError\u001b[0m                               Traceback (most recent call last)",
      "\u001b[0;32m<ipython-input-33-59094e56a9af>\u001b[0m in \u001b[0;36m<module>\u001b[0;34m\u001b[0m\n\u001b[1;32m      1\u001b[0m \u001b[0mglasso\u001b[0m \u001b[0;34m=\u001b[0m \u001b[0mcdt\u001b[0m\u001b[0;34m.\u001b[0m\u001b[0mindependence\u001b[0m\u001b[0;34m.\u001b[0m\u001b[0mgraph\u001b[0m\u001b[0;34m.\u001b[0m\u001b[0mGlasso\u001b[0m\u001b[0;34m(\u001b[0m\u001b[0;34m)\u001b[0m\u001b[0;34m\u001b[0m\u001b[0;34m\u001b[0m\u001b[0m\n\u001b[0;32m----> 2\u001b[0;31m \u001b[0mskeleton\u001b[0m \u001b[0;34m=\u001b[0m \u001b[0mglasso\u001b[0m\u001b[0;34m.\u001b[0m\u001b[0mpredict\u001b[0m\u001b[0;34m(\u001b[0m\u001b[0mmatrix_data\u001b[0m\u001b[0;34m)\u001b[0m\u001b[0;34m\u001b[0m\u001b[0;34m\u001b[0m\u001b[0m\n\u001b[0m",
      "\u001b[0;32m~/.local/lib/python3.8/site-packages/cdt/independence/graph/Lasso.py\u001b[0m in \u001b[0;36mpredict\u001b[0;34m(self, data, alpha, max_iter, **kwargs)\u001b[0m\n\u001b[1;32m     64\u001b[0m         \"\"\"\n\u001b[1;32m     65\u001b[0m         \u001b[0medge_model\u001b[0m \u001b[0;34m=\u001b[0m \u001b[0mGraphicalLasso\u001b[0m\u001b[0;34m(\u001b[0m\u001b[0malpha\u001b[0m\u001b[0;34m=\u001b[0m\u001b[0malpha\u001b[0m\u001b[0;34m,\u001b[0m \u001b[0mmax_iter\u001b[0m\u001b[0;34m=\u001b[0m\u001b[0mmax_iter\u001b[0m\u001b[0;34m)\u001b[0m\u001b[0;34m\u001b[0m\u001b[0;34m\u001b[0m\u001b[0m\n\u001b[0;32m---> 66\u001b[0;31m         \u001b[0medge_model\u001b[0m\u001b[0;34m.\u001b[0m\u001b[0mfit\u001b[0m\u001b[0;34m(\u001b[0m\u001b[0mdata\u001b[0m\u001b[0;34m.\u001b[0m\u001b[0mvalues\u001b[0m\u001b[0;34m)\u001b[0m\u001b[0;34m\u001b[0m\u001b[0;34m\u001b[0m\u001b[0m\n\u001b[0m\u001b[1;32m     67\u001b[0m \u001b[0;34m\u001b[0m\u001b[0m\n\u001b[1;32m     68\u001b[0m         return nx.relabel_nodes(nx.DiGraph(edge_model.get_precision()),\n",
      "\u001b[0;32m~/.local/lib/python3.8/site-packages/sklearn/covariance/_graph_lasso.py\u001b[0m in \u001b[0;36mfit\u001b[0;34m(self, X, y)\u001b[0m\n\u001b[1;32m    400\u001b[0m         emp_cov = empirical_covariance(\n\u001b[1;32m    401\u001b[0m             X, assume_centered=self.assume_centered)\n\u001b[0;32m--> 402\u001b[0;31m         self.covariance_, self.precision_, self.n_iter_ = graphical_lasso(\n\u001b[0m\u001b[1;32m    403\u001b[0m             \u001b[0memp_cov\u001b[0m\u001b[0;34m,\u001b[0m \u001b[0malpha\u001b[0m\u001b[0;34m=\u001b[0m\u001b[0mself\u001b[0m\u001b[0;34m.\u001b[0m\u001b[0malpha\u001b[0m\u001b[0;34m,\u001b[0m \u001b[0mmode\u001b[0m\u001b[0;34m=\u001b[0m\u001b[0mself\u001b[0m\u001b[0;34m.\u001b[0m\u001b[0mmode\u001b[0m\u001b[0;34m,\u001b[0m \u001b[0mtol\u001b[0m\u001b[0;34m=\u001b[0m\u001b[0mself\u001b[0m\u001b[0;34m.\u001b[0m\u001b[0mtol\u001b[0m\u001b[0;34m,\u001b[0m\u001b[0;34m\u001b[0m\u001b[0;34m\u001b[0m\u001b[0m\n\u001b[1;32m    404\u001b[0m             \u001b[0menet_tol\u001b[0m\u001b[0;34m=\u001b[0m\u001b[0mself\u001b[0m\u001b[0;34m.\u001b[0m\u001b[0menet_tol\u001b[0m\u001b[0;34m,\u001b[0m \u001b[0mmax_iter\u001b[0m\u001b[0;34m=\u001b[0m\u001b[0mself\u001b[0m\u001b[0;34m.\u001b[0m\u001b[0mmax_iter\u001b[0m\u001b[0;34m,\u001b[0m\u001b[0;34m\u001b[0m\u001b[0;34m\u001b[0m\u001b[0m\n",
      "\u001b[0;32m~/.local/lib/python3.8/site-packages/sklearn/utils/validation.py\u001b[0m in \u001b[0;36minner_f\u001b[0;34m(*args, **kwargs)\u001b[0m\n\u001b[1;32m     70\u001b[0m                           FutureWarning)\n\u001b[1;32m     71\u001b[0m         \u001b[0mkwargs\u001b[0m\u001b[0;34m.\u001b[0m\u001b[0mupdate\u001b[0m\u001b[0;34m(\u001b[0m\u001b[0;34m{\u001b[0m\u001b[0mk\u001b[0m\u001b[0;34m:\u001b[0m \u001b[0marg\u001b[0m \u001b[0;32mfor\u001b[0m \u001b[0mk\u001b[0m\u001b[0;34m,\u001b[0m \u001b[0marg\u001b[0m \u001b[0;32min\u001b[0m \u001b[0mzip\u001b[0m\u001b[0;34m(\u001b[0m\u001b[0msig\u001b[0m\u001b[0;34m.\u001b[0m\u001b[0mparameters\u001b[0m\u001b[0;34m,\u001b[0m \u001b[0margs\u001b[0m\u001b[0;34m)\u001b[0m\u001b[0;34m}\u001b[0m\u001b[0;34m)\u001b[0m\u001b[0;34m\u001b[0m\u001b[0;34m\u001b[0m\u001b[0m\n\u001b[0;32m---> 72\u001b[0;31m         \u001b[0;32mreturn\u001b[0m \u001b[0mf\u001b[0m\u001b[0;34m(\u001b[0m\u001b[0;34m**\u001b[0m\u001b[0mkwargs\u001b[0m\u001b[0;34m)\u001b[0m\u001b[0;34m\u001b[0m\u001b[0;34m\u001b[0m\u001b[0m\n\u001b[0m\u001b[1;32m     73\u001b[0m     \u001b[0;32mreturn\u001b[0m \u001b[0minner_f\u001b[0m\u001b[0;34m\u001b[0m\u001b[0;34m\u001b[0m\u001b[0m\n\u001b[1;32m     74\u001b[0m \u001b[0;34m\u001b[0m\u001b[0m\n",
      "\u001b[0;32m~/.local/lib/python3.8/site-packages/sklearn/covariance/_graph_lasso.py\u001b[0m in \u001b[0;36mgraphical_lasso\u001b[0;34m(emp_cov, alpha, cov_init, mode, tol, enet_tol, max_iter, verbose, return_costs, eps, return_n_iter)\u001b[0m\n\u001b[1;32m    192\u001b[0m     \u001b[0mdiagonal\u001b[0m \u001b[0;34m=\u001b[0m \u001b[0memp_cov\u001b[0m\u001b[0;34m.\u001b[0m\u001b[0mflat\u001b[0m\u001b[0;34m[\u001b[0m\u001b[0;34m:\u001b[0m\u001b[0;34m:\u001b[0m\u001b[0mn_features\u001b[0m \u001b[0;34m+\u001b[0m \u001b[0;36m1\u001b[0m\u001b[0;34m]\u001b[0m\u001b[0;34m\u001b[0m\u001b[0;34m\u001b[0m\u001b[0m\n\u001b[1;32m    193\u001b[0m     \u001b[0mcovariance_\u001b[0m\u001b[0;34m.\u001b[0m\u001b[0mflat\u001b[0m\u001b[0;34m[\u001b[0m\u001b[0;34m:\u001b[0m\u001b[0;34m:\u001b[0m\u001b[0mn_features\u001b[0m \u001b[0;34m+\u001b[0m \u001b[0;36m1\u001b[0m\u001b[0;34m]\u001b[0m \u001b[0;34m=\u001b[0m \u001b[0mdiagonal\u001b[0m\u001b[0;34m\u001b[0m\u001b[0;34m\u001b[0m\u001b[0m\n\u001b[0;32m--> 194\u001b[0;31m     \u001b[0mprecision_\u001b[0m \u001b[0;34m=\u001b[0m \u001b[0mlinalg\u001b[0m\u001b[0;34m.\u001b[0m\u001b[0mpinvh\u001b[0m\u001b[0;34m(\u001b[0m\u001b[0mcovariance_\u001b[0m\u001b[0;34m)\u001b[0m\u001b[0;34m\u001b[0m\u001b[0;34m\u001b[0m\u001b[0m\n\u001b[0m\u001b[1;32m    195\u001b[0m \u001b[0;34m\u001b[0m\u001b[0m\n\u001b[1;32m    196\u001b[0m     \u001b[0mindices\u001b[0m \u001b[0;34m=\u001b[0m \u001b[0mnp\u001b[0m\u001b[0;34m.\u001b[0m\u001b[0marange\u001b[0m\u001b[0;34m(\u001b[0m\u001b[0mn_features\u001b[0m\u001b[0;34m)\u001b[0m\u001b[0;34m\u001b[0m\u001b[0;34m\u001b[0m\u001b[0m\n",
      "\u001b[0;32m~/.local/lib/python3.8/site-packages/scipy/linalg/basic.py\u001b[0m in \u001b[0;36mpinvh\u001b[0;34m(a, cond, rcond, lower, return_rank, check_finite)\u001b[0m\n\u001b[1;32m   1450\u001b[0m     \u001b[0mu\u001b[0m \u001b[0;34m=\u001b[0m \u001b[0mu\u001b[0m\u001b[0;34m[\u001b[0m\u001b[0;34m:\u001b[0m\u001b[0;34m,\u001b[0m \u001b[0mabove_cutoff\u001b[0m\u001b[0;34m]\u001b[0m\u001b[0;34m\u001b[0m\u001b[0;34m\u001b[0m\u001b[0m\n\u001b[1;32m   1451\u001b[0m \u001b[0;34m\u001b[0m\u001b[0m\n\u001b[0;32m-> 1452\u001b[0;31m     \u001b[0mB\u001b[0m \u001b[0;34m=\u001b[0m \u001b[0mnp\u001b[0m\u001b[0;34m.\u001b[0m\u001b[0mdot\u001b[0m\u001b[0;34m(\u001b[0m\u001b[0mu\u001b[0m \u001b[0;34m*\u001b[0m \u001b[0mpsigma_diag\u001b[0m\u001b[0;34m,\u001b[0m \u001b[0mnp\u001b[0m\u001b[0;34m.\u001b[0m\u001b[0mconjugate\u001b[0m\u001b[0;34m(\u001b[0m\u001b[0mu\u001b[0m\u001b[0;34m)\u001b[0m\u001b[0;34m.\u001b[0m\u001b[0mT\u001b[0m\u001b[0;34m)\u001b[0m\u001b[0;34m\u001b[0m\u001b[0;34m\u001b[0m\u001b[0m\n\u001b[0m\u001b[1;32m   1453\u001b[0m \u001b[0;34m\u001b[0m\u001b[0m\n\u001b[1;32m   1454\u001b[0m     \u001b[0;32mif\u001b[0m \u001b[0mreturn_rank\u001b[0m\u001b[0;34m:\u001b[0m\u001b[0;34m\u001b[0m\u001b[0;34m\u001b[0m\u001b[0m\n",
      "\u001b[0;31mMemoryError\u001b[0m: Unable to allocate 1.17 GiB for an array with shape (12531, 12531) and data type float64"
     ]
    }
   ],
   "source": [
    "glasso = cdt.independence.graph.Glasso()\n",
    "skeleton = glasso.predict(matrix_data)"
   ]
  },
  {
   "cell_type": "code",
   "execution_count": null,
   "id": "adopted-opening",
   "metadata": {},
   "outputs": [],
   "source": []
  }
 ],
 "metadata": {
  "kernelspec": {
   "display_name": "Python 3",
   "language": "python",
   "name": "python3"
  },
  "language_info": {
   "codemirror_mode": {
    "name": "ipython",
    "version": 3
   },
   "file_extension": ".py",
   "mimetype": "text/x-python",
   "name": "python",
   "nbconvert_exporter": "python",
   "pygments_lexer": "ipython3",
   "version": "3.8.0"
  }
 },
 "nbformat": 4,
 "nbformat_minor": 5
}
