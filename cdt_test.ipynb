{
 "cells": [
  {
   "cell_type": "code",
   "execution_count": 1,
   "id": "seasonal-protection",
   "metadata": {},
   "outputs": [
    {
     "name": "stderr",
     "output_type": "stream",
     "text": [
      "No GPU automatically detected. Setting SETTINGS.GPU to 0, and SETTINGS.NJOBS to cpu_count.\n"
     ]
    }
   ],
   "source": [
    "import random\n",
    "import os\n",
    "import numpy as np\n",
    "import torch\n",
    "\n",
    "import cdt\n",
    "import networkx as nx"
   ]
  },
  {
   "cell_type": "code",
   "execution_count": 2,
   "id": "lucky-height",
   "metadata": {
    "tags": []
   },
   "outputs": [],
   "source": [
    "# !python3.8 -m pip install cdt"
   ]
  },
  {
   "cell_type": "code",
   "execution_count": 3,
   "id": "equipped-belly",
   "metadata": {},
   "outputs": [],
   "source": [
    "def seed_torch(seed=1024):\n",
    "    random.seed(seed)\n",
    "    os.environ['PYTHONHASHSEED'] = str(seed)\n",
    "    np.random.seed(seed)\n",
    "    torch.manual_seed(seed)\n",
    "    torch.cuda.manual_seed(seed)\n",
    "    torch.cuda.manual_seed_all(seed)\n",
    "    torch.backends.cudnn.benchmark = False\n",
    "    torch.backends.cudnn.deterministic = True\n",
    "\n",
    "\n",
    "seed_torch()"
   ]
  },
  {
   "cell_type": "code",
   "execution_count": 4,
   "id": "rental-demonstration",
   "metadata": {},
   "outputs": [],
   "source": [
    "data, graph = cdt.data.load_dataset('sachs')"
   ]
  },
  {
   "cell_type": "code",
   "execution_count": 5,
   "id": "ignored-colony",
   "metadata": {},
   "outputs": [
    {
     "data": {
      "text/html": [
       "<div>\n",
       "<style scoped>\n",
       "    .dataframe tbody tr th:only-of-type {\n",
       "        vertical-align: middle;\n",
       "    }\n",
       "\n",
       "    .dataframe tbody tr th {\n",
       "        vertical-align: top;\n",
       "    }\n",
       "\n",
       "    .dataframe thead th {\n",
       "        text-align: right;\n",
       "    }\n",
       "</style>\n",
       "<table border=\"1\" class=\"dataframe\">\n",
       "  <thead>\n",
       "    <tr style=\"text-align: right;\">\n",
       "      <th></th>\n",
       "      <th>praf</th>\n",
       "      <th>pmek</th>\n",
       "      <th>plcg</th>\n",
       "      <th>PIP2</th>\n",
       "      <th>PIP3</th>\n",
       "      <th>p44/42</th>\n",
       "      <th>pakts473</th>\n",
       "      <th>PKA</th>\n",
       "      <th>PKC</th>\n",
       "      <th>P38</th>\n",
       "      <th>pjnk</th>\n",
       "    </tr>\n",
       "  </thead>\n",
       "  <tbody>\n",
       "    <tr>\n",
       "      <th>0</th>\n",
       "      <td>26.4</td>\n",
       "      <td>13.2</td>\n",
       "      <td>8.82</td>\n",
       "      <td>18.30</td>\n",
       "      <td>58.80</td>\n",
       "      <td>6.61</td>\n",
       "      <td>17.0</td>\n",
       "      <td>414.0</td>\n",
       "      <td>17.00</td>\n",
       "      <td>44.9</td>\n",
       "      <td>40.0</td>\n",
       "    </tr>\n",
       "    <tr>\n",
       "      <th>1</th>\n",
       "      <td>35.9</td>\n",
       "      <td>16.5</td>\n",
       "      <td>12.30</td>\n",
       "      <td>16.80</td>\n",
       "      <td>8.13</td>\n",
       "      <td>18.60</td>\n",
       "      <td>32.5</td>\n",
       "      <td>352.0</td>\n",
       "      <td>3.37</td>\n",
       "      <td>16.5</td>\n",
       "      <td>61.5</td>\n",
       "    </tr>\n",
       "    <tr>\n",
       "      <th>2</th>\n",
       "      <td>59.4</td>\n",
       "      <td>44.1</td>\n",
       "      <td>14.60</td>\n",
       "      <td>10.20</td>\n",
       "      <td>13.00</td>\n",
       "      <td>14.90</td>\n",
       "      <td>32.5</td>\n",
       "      <td>403.0</td>\n",
       "      <td>11.40</td>\n",
       "      <td>31.9</td>\n",
       "      <td>19.5</td>\n",
       "    </tr>\n",
       "    <tr>\n",
       "      <th>3</th>\n",
       "      <td>73.0</td>\n",
       "      <td>82.8</td>\n",
       "      <td>23.10</td>\n",
       "      <td>13.50</td>\n",
       "      <td>1.29</td>\n",
       "      <td>5.83</td>\n",
       "      <td>11.8</td>\n",
       "      <td>528.0</td>\n",
       "      <td>13.70</td>\n",
       "      <td>28.6</td>\n",
       "      <td>23.1</td>\n",
       "    </tr>\n",
       "    <tr>\n",
       "      <th>4</th>\n",
       "      <td>33.7</td>\n",
       "      <td>19.8</td>\n",
       "      <td>5.19</td>\n",
       "      <td>9.73</td>\n",
       "      <td>24.80</td>\n",
       "      <td>21.10</td>\n",
       "      <td>46.1</td>\n",
       "      <td>305.0</td>\n",
       "      <td>4.66</td>\n",
       "      <td>25.7</td>\n",
       "      <td>81.3</td>\n",
       "    </tr>\n",
       "  </tbody>\n",
       "</table>\n",
       "</div>"
      ],
      "text/plain": [
       "   praf  pmek   plcg   PIP2   PIP3  p44/42  pakts473    PKA    PKC   P38  pjnk\n",
       "0  26.4  13.2   8.82  18.30  58.80    6.61      17.0  414.0  17.00  44.9  40.0\n",
       "1  35.9  16.5  12.30  16.80   8.13   18.60      32.5  352.0   3.37  16.5  61.5\n",
       "2  59.4  44.1  14.60  10.20  13.00   14.90      32.5  403.0  11.40  31.9  19.5\n",
       "3  73.0  82.8  23.10  13.50   1.29    5.83      11.8  528.0  13.70  28.6  23.1\n",
       "4  33.7  19.8   5.19   9.73  24.80   21.10      46.1  305.0   4.66  25.7  81.3"
      ]
     },
     "execution_count": 5,
     "metadata": {},
     "output_type": "execute_result"
    }
   ],
   "source": [
    "data.head()"
   ]
  },
  {
   "cell_type": "code",
   "execution_count": 6,
   "id": "static-signature",
   "metadata": {},
   "outputs": [],
   "source": [
    "glasso = cdt.independence.graph.Glasso()\n",
    "skeleton = glasso.predict(data)"
   ]
  },
  {
   "cell_type": "code",
   "execution_count": 7,
   "id": "opponent-effectiveness",
   "metadata": {
    "tags": []
   },
   "outputs": [
    {
     "data": {
      "text/plain": [
       "matrix([[ 9.26744031e-04, -6.13751618e-04,  1.66612981e-05,\n",
       "         -1.10912131e-06, -3.04172363e-05, -9.71526466e-05,\n",
       "          7.00340545e-05, -1.93863471e-06, -7.31774543e-06,\n",
       "          2.29788237e-06,  8.31264711e-06],\n",
       "        [-6.13751618e-04,  4.14978956e-04, -1.37962487e-05,\n",
       "          1.42164753e-06,  2.04443539e-05,  8.24208108e-05,\n",
       "         -5.63238668e-05,  1.62688021e-06,  8.63444133e-06,\n",
       "         -2.88779755e-06, -4.69605195e-06],\n",
       "        [ 1.66612981e-05, -1.37962487e-05,  2.60824802e-04,\n",
       "         -1.35895911e-04,  8.78979413e-05,  2.17234579e-05,\n",
       "         -2.07856535e-05,  1.23313600e-06,  2.12954874e-05,\n",
       "         -3.22869246e-06, -7.47522248e-06],\n",
       "        [-1.10912131e-06,  1.42164753e-06, -1.35895911e-04,\n",
       "          8.68622146e-05, -7.05405720e-05,  3.08709259e-06,\n",
       "         -2.60810094e-06,  9.09261370e-09, -6.25320515e-06,\n",
       "          2.56399675e-07,  2.85201875e-07],\n",
       "        [-3.04172363e-05,  2.04443539e-05,  8.78979413e-05,\n",
       "         -7.05405720e-05,  6.09681818e-04, -9.91703900e-06,\n",
       "          1.78188074e-05, -5.97491176e-07,  6.11896719e-06,\n",
       "         -4.30918870e-07,  5.79322379e-06],\n",
       "        [-9.71526466e-05,  8.24208108e-05,  2.17234579e-05,\n",
       "          3.08709259e-06, -9.91703900e-06,  1.10860610e-03,\n",
       "         -3.08483289e-04, -1.30867663e-05, -3.31258890e-05,\n",
       "          7.76132824e-06,  2.10416319e-05],\n",
       "        [ 7.00340545e-05, -5.63238668e-05, -2.07856535e-05,\n",
       "         -2.60810094e-06,  1.78188074e-05, -3.08483289e-04,\n",
       "          1.66144775e-04,  1.26667898e-06,  3.11407736e-05,\n",
       "         -7.29116898e-06, -1.86454298e-05],\n",
       "        [-1.93863471e-06,  1.62688021e-06,  1.23313600e-06,\n",
       "          9.09261370e-09, -5.97491176e-07, -1.30867663e-05,\n",
       "          1.26667898e-06,  2.80073467e-06, -3.78879972e-06,\n",
       "          8.67580852e-07,  6.92379671e-07],\n",
       "        [-7.31774543e-06,  8.63444133e-06,  2.12954874e-05,\n",
       "         -6.25320515e-06,  6.11896719e-06, -3.31258890e-05,\n",
       "          3.11407736e-05, -3.78879972e-06,  1.59642510e-03,\n",
       "         -2.58155157e-04, -1.01767664e-04],\n",
       "        [ 2.29788237e-06, -2.88779755e-06, -3.22869246e-06,\n",
       "          2.56399675e-07, -4.30918870e-07,  7.76132824e-06,\n",
       "         -7.29116898e-06,  8.67580852e-07, -2.58155157e-04,\n",
       "          5.32997159e-05, -3.35285721e-06],\n",
       "        [ 8.31264711e-06, -4.69605195e-06, -7.47522248e-06,\n",
       "          2.85201875e-07,  5.79322379e-06,  2.10416319e-05,\n",
       "         -1.86454298e-05,  6.92379671e-07, -1.01767664e-04,\n",
       "         -3.35285721e-06,  7.05796078e-05]])"
      ]
     },
     "execution_count": 7,
     "metadata": {},
     "output_type": "execute_result"
    }
   ],
   "source": [
    "nx.adjacency_matrix(skeleton).todense()"
   ]
  },
  {
   "cell_type": "code",
   "execution_count": 8,
   "id": "european-spain",
   "metadata": {},
   "outputs": [],
   "source": [
    "new_skeleton = cdt.utils.graph.remove_indirect_links(skeleton, alg='aracne')"
   ]
  },
  {
   "cell_type": "code",
   "execution_count": 9,
   "id": "circular-hybrid",
   "metadata": {},
   "outputs": [
    {
     "ename": "ImportError",
     "evalue": "R Package pcalg is not available.",
     "output_type": "error",
     "traceback": [
      "\u001b[0;31m---------------------------------------------------------------------------\u001b[0m",
      "\u001b[0;31mImportError\u001b[0m                               Traceback (most recent call last)",
      "\u001b[0;32m<ipython-input-9-26c1cea31d00>\u001b[0m in \u001b[0;36m<module>\u001b[0;34m\u001b[0m\n\u001b[0;32m----> 1\u001b[0;31m \u001b[0mmodel\u001b[0m \u001b[0;34m=\u001b[0m \u001b[0mcdt\u001b[0m\u001b[0;34m.\u001b[0m\u001b[0mcausality\u001b[0m\u001b[0;34m.\u001b[0m\u001b[0mgraph\u001b[0m\u001b[0;34m.\u001b[0m\u001b[0mGES\u001b[0m\u001b[0;34m(\u001b[0m\u001b[0;34m)\u001b[0m\u001b[0;34m\u001b[0m\u001b[0;34m\u001b[0m\u001b[0m\n\u001b[0m\u001b[1;32m      2\u001b[0m \u001b[0moutput_graph\u001b[0m \u001b[0;34m=\u001b[0m \u001b[0mmodel\u001b[0m\u001b[0;34m.\u001b[0m\u001b[0mpredict\u001b[0m\u001b[0;34m(\u001b[0m\u001b[0mdata\u001b[0m\u001b[0;34m,\u001b[0m \u001b[0mnew_skeleton\u001b[0m\u001b[0;34m)\u001b[0m\u001b[0;34m\u001b[0m\u001b[0;34m\u001b[0m\u001b[0m\n\u001b[1;32m      3\u001b[0m \u001b[0mprint\u001b[0m\u001b[0;34m(\u001b[0m\u001b[0mnx\u001b[0m\u001b[0;34m.\u001b[0m\u001b[0madjacency_matrix\u001b[0m\u001b[0;34m(\u001b[0m\u001b[0moutput_graph\u001b[0m\u001b[0;34m)\u001b[0m\u001b[0;34m.\u001b[0m\u001b[0mtodense\u001b[0m\u001b[0;34m(\u001b[0m\u001b[0;34m)\u001b[0m\u001b[0;34m)\u001b[0m\u001b[0;34m\u001b[0m\u001b[0;34m\u001b[0m\u001b[0m\n",
      "\u001b[0;32m~/.local/lib/python3.8/site-packages/cdt/causality/graph/GES.py\u001b[0m in \u001b[0;36m__init__\u001b[0;34m(self, score, verbose)\u001b[0m\n\u001b[1;32m    108\u001b[0m         \u001b[0;34m\"\"\"Init the model and its available arguments.\"\"\"\u001b[0m\u001b[0;34m\u001b[0m\u001b[0;34m\u001b[0m\u001b[0m\n\u001b[1;32m    109\u001b[0m         \u001b[0;32mif\u001b[0m \u001b[0;32mnot\u001b[0m \u001b[0mRPackages\u001b[0m\u001b[0;34m.\u001b[0m\u001b[0mpcalg\u001b[0m\u001b[0;34m:\u001b[0m\u001b[0;34m\u001b[0m\u001b[0;34m\u001b[0m\u001b[0m\n\u001b[0;32m--> 110\u001b[0;31m             \u001b[0;32mraise\u001b[0m \u001b[0mImportError\u001b[0m\u001b[0;34m(\u001b[0m\u001b[0;34m\"R Package pcalg is not available.\"\u001b[0m\u001b[0;34m)\u001b[0m\u001b[0;34m\u001b[0m\u001b[0;34m\u001b[0m\u001b[0m\n\u001b[0m\u001b[1;32m    111\u001b[0m \u001b[0;34m\u001b[0m\u001b[0m\n\u001b[1;32m    112\u001b[0m         \u001b[0msuper\u001b[0m\u001b[0;34m(\u001b[0m\u001b[0mGES\u001b[0m\u001b[0;34m,\u001b[0m \u001b[0mself\u001b[0m\u001b[0;34m)\u001b[0m\u001b[0;34m.\u001b[0m\u001b[0m__init__\u001b[0m\u001b[0;34m(\u001b[0m\u001b[0;34m)\u001b[0m\u001b[0;34m\u001b[0m\u001b[0;34m\u001b[0m\u001b[0m\n",
      "\u001b[0;31mImportError\u001b[0m: R Package pcalg is not available."
     ]
    }
   ],
   "source": [
    "model = cdt.causality.graph.GES()\n",
    "output_graph = model.predict(data, new_skeleton)\n",
    "print(nx.adjacency_matrix(output_graph).todense())"
   ]
  },
  {
   "cell_type": "code",
   "execution_count": null,
   "id": "spread-constitution",
   "metadata": {},
   "outputs": [],
   "source": []
  }
 ],
 "metadata": {
  "kernelspec": {
   "display_name": "Python 3",
   "language": "python",
   "name": "python3"
  },
  "language_info": {
   "codemirror_mode": {
    "name": "ipython",
    "version": 3
   },
   "file_extension": ".py",
   "mimetype": "text/x-python",
   "name": "python",
   "nbconvert_exporter": "python",
   "pygments_lexer": "ipython3",
   "version": "3.8.0"
  }
 },
 "nbformat": 4,
 "nbformat_minor": 5
}
